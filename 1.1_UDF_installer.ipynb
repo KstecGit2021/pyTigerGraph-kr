{
 "cells": [
  {
   "cell_type": "markdown",
   "id": "a0753d0e-9062-409d-8308-3d536bfa9d1c",
   "metadata": {},
   "source": [
    "# UDFinstaller #\n",
    "This notebook demonstrates how to use `pyTigerGraph` for installing UDF to be able to install those algorithmms that requires these UDF and do preproccessing tasks on graphs stored in `TigerGraph`."
   ]
  },
  {
   "cell_type": "markdown",
   "id": "c9f16295-3f06-48a6-83ec-bd5692b3990c",
   "metadata": {},
   "source": [
    "## Connection to Database ##\n",
    "The `TigerGraphConnection` class represents a connection to the TigerGraph database. Under the hood, it stores the necessary information to communicate with the database. Please see its [documentation](https://docs.tigergraph.com/pytigergraph/current/intro/) for details."
   ]
  },
  {
   "cell_type": "code",
   "execution_count": 1,
   "id": "675895f2-d60d-4c7a-a988-32e296ca93e3",
   "metadata": {},
   "outputs": [],
   "source": [
    "from pyTigerGraph import TigerGraphConnection"
   ]
  },
  {
   "cell_type": "code",
   "execution_count": 2,
   "id": "95391f04-3b1c-4c3b-ba2f-165b36dc82b7",
   "metadata": {},
   "outputs": [],
   "source": [
    "conn = TigerGraphConnection(\n",
    "    host=\"http://127.0.0.1\", # Change the address to your database server's\n",
    "    graphname=\"Cora\",\n",
    "    username=\"tigergraph\",\n",
    "    password=\"tigergraph\",\n",
    "    useCert=False\n",
    ")"
   ]
  },
  {
   "cell_type": "code",
   "execution_count": 5,
   "id": "a0d8dc86",
   "metadata": {},
   "outputs": [
    {
     "data": {
      "text/plain": [
       "'---- Graph Cora\\nVertex Types:\\n- VERTEX Paper(PRIMARY_ID id INT, x LIST<INT>, y INT, train_mask BOOL, val_mask BOOL, test_mask BOOL, fastrp_embedding LIST<DOUBLE>) WITH STATS=\"OUTDEGREE_BY_EDGETYPE\", PRIMARY_ID_AS_ATTRIBUTE=\"true\"\\nEdge Types:\\n- DIRECTED EDGE Cite(FROM Paper, TO Paper, attr BOOL)\\n\\nGraphs:\\n- Graph Cora(Paper:v, Cite:e)\\nJobs:\\nQueries:\\n- test(string attr) (installed v2)\\n- test2(string attr) (installed v2)\\n- tg_fastRP(set<string> v_type, set<string> e_type, string weights, float beta, int k, int reduced_dim, int sampling_constant, int random_seed, bool print_accum, string result_attr)\\n- tg_pagerank(string v_type, string e_type, float max_change, int max_iter, float damping, int top_k, bool print_accum, string result_attr, string file_path, bool display_edges) (installed v2)\\n- user_defined_query() (installed v2)\\n\\n\\n\\n'"
      ]
     },
     "execution_count": 5,
     "metadata": {},
     "output_type": "execute_result"
    }
   ],
   "source": [
    "conn.gsql('LS')"
   ]
  },
  {
   "cell_type": "markdown",
   "id": "db677d52",
   "metadata": {},
   "source": [
    "# Install UDF\n",
    "Install the desired UDF by providing the address where it is located."
   ]
  },
  {
   "cell_type": "code",
   "execution_count": 3,
   "id": "81b39501",
   "metadata": {},
   "outputs": [
    {
     "name": "stdout",
     "output_type": "stream",
     "text": [
      "ExprFunctions installed succesfully !\n",
      "ExprFunctions installed succesfully !\n"
     ]
    }
   ],
   "source": [
    "conn.installUDF(\"/Users/neda.zarayeneh/pyTigerGraph/tests/ExprFunctions.hpp\")\n",
    "conn.installUDF(\"/Users/neda.zarayeneh/pyTigerGraph/tests/ExprUtil.hpp\")"
   ]
  },
  {
   "cell_type": "markdown",
   "id": "f53df280-c428-40da-b3ec-32de0a3cd673",
   "metadata": {},
   "source": [
    "## Get fastRP as a feature ##\n",
    "The fastRP algorithm is available in GDS library called tg_fastRP under the class of community detection algorithms  https://github.com/tigergraph/gsql-graph-algorithms/blob/master/algorithms/GraphML/Embeddings/FastRP/tg_fastRP.gsql. fastRP needs UDF to be installed before being able to install and run it. In the previous cell, the required UDF gets installed and now fastRP can be used to creat feature."
   ]
  },
  {
   "cell_type": "code",
   "execution_count": 9,
   "id": "6d64019f-64a0-4d8c-a1d1-41dcafb29d3a",
   "metadata": {},
   "outputs": [
    {
     "data": {
      "text/plain": [
       "'tg_fastRP'"
      ]
     },
     "execution_count": 9,
     "metadata": {},
     "output_type": "execute_result"
    }
   ],
   "source": [
    "f = conn.gds.featurizer()\n",
    "f.installAlgorithm(query_name=\"tg_fastRP\",global_change=True)"
   ]
  },
  {
   "cell_type": "code",
   "execution_count": 16,
   "id": "9a0d0b1c-9ab4-4af7-8025-439f5876ab04",
   "metadata": {},
   "outputs": [
    {
     "name": "stdout",
     "output_type": "stream",
     "text": [
      "[]\n"
     ]
    }
   ],
   "source": [
    "params = {'v_type': 'Paper', 'e_type': ['Cite','reverse_Cite'], 'weights': '1,1,2', 'beta': -0.85, 'k': 3, 'reduced_dim': 128, \n",
    "          'sampling_constant': 1, 'random_seed': 42, 'print_accum': False,'result_attr':\"\",'file_path' :\"\"}\n",
    "f.runAlgorithm(query_name='tg_fastRP',params=params,feat_name =\"fastrp_embedding\",global_schema=True,timeout = 2147480)"
   ]
  },
  {
   "cell_type": "markdown",
   "id": "ba2e7a9a",
   "metadata": {},
   "source": [
    "# Install User Defined Query"
   ]
  },
  {
   "cell_type": "code",
   "execution_count": 28,
   "id": "d905ee40",
   "metadata": {},
   "outputs": [
    {
     "name": "stdout",
     "output_type": "stream",
     "text": [
      "\n",
      "CREATE QUERY user_defined_query3() FOR GRAPH Cora { \n",
      "  /* Write query logic here */ \n",
      "  PRINT \"user_defined_query works!\"; \n",
      "}\n"
     ]
    }
   ],
   "source": [
    "query = '''\n",
    "CREATE QUERY user_defined_query3() FOR GRAPH Cora { \n",
    "  /* Write query logic here */ \n",
    "  PRINT \"user_defined_query works!\"; \n",
    "}'''\n",
    "\n",
    "print(query)"
   ]
  },
  {
   "cell_type": "code",
   "execution_count": 29,
   "id": "77eb9637",
   "metadata": {},
   "outputs": [],
   "source": [
    "outFileName=\"./user_defined_query1.gsql\"\n",
    "outFile=open(outFileName, \"w\")\n",
    "outFile.write(query)\n",
    "outFile.close()"
   ]
  },
  {
   "cell_type": "code",
   "execution_count": 30,
   "id": "9182f79d",
   "metadata": {},
   "outputs": [
    {
     "name": "stdout",
     "output_type": "stream",
     "text": [
      "Installing and optimizing the queries, it might take a minute\n"
     ]
    },
    {
     "data": {
      "text/plain": [
       "'CREATE QUERY user_defined_query3() FOR GRAPH Cora { \\n  /* Write query logic here */ \\n  PRINT \"user_defined_query works!\"; \\n}'"
      ]
     },
     "execution_count": 30,
     "metadata": {},
     "output_type": "execute_result"
    }
   ],
   "source": [
    "f.installAlgorithm(query,\"./user_defined_query1.gsql\" )"
   ]
  }
 ],
 "metadata": {
  "interpreter": {
   "hash": "86339a571aa1685b1bf33ba9ca33ff3e2e27be4a4a583dd76d4cb23b04832e59"
  },
  "kernelspec": {
   "display_name": "Python 3.9.12",
   "language": "python",
   "name": "python3"
  },
  "language_info": {
   "codemirror_mode": {
    "name": "ipython",
    "version": 3
   },
   "file_extension": ".py",
   "mimetype": "text/x-python",
   "name": "python",
   "nbconvert_exporter": "python",
   "pygments_lexer": "ipython3",
   "version": "3.9.7"
  }
 },
 "nbformat": 4,
 "nbformat_minor": 5
}
