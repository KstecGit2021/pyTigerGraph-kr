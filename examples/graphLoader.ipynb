{
 "cells": [
  {
   "cell_type": "code",
   "execution_count": 1,
   "id": "f447bb0f-8e22-4f97-bb50-ac6b3e4106cd",
   "metadata": {
    "pycharm": {
     "name": "#%%\n"
    }
   },
   "outputs": [],
   "source": [
    "from pyTigerGraph import TigerGraphConnection"
   ]
  },
  {
   "cell_type": "markdown",
   "id": "2d16bbd8-ae55-4494-b408-c9eaf2f75748",
   "metadata": {
    "pycharm": {
     "name": "#%% md\n"
    }
   },
   "source": [
    "#### Initialize connection to database"
   ]
  },
  {
   "cell_type": "code",
   "execution_count": 4,
   "id": "ea131659-6c83-4cd2-9b41-62d1ef2dcc34",
   "metadata": {
    "pycharm": {
     "name": "#%%\n"
    }
   },
   "outputs": [],
   "source": [
    "conn = TigerGraphConnection(\n",
    "    host=\"http://127.0.0.1\",\n",
    "    username=\"tigergraph\",\n",
    "    password=\"tigergraph\",\n",
    "    graphname=\"Cora\")"
   ]
  },
  {
   "cell_type": "code",
   "execution_count": 6,
   "id": "4568cd5e-3dd3-4afc-9fc6-c4e9900785c7",
   "metadata": {
    "pycharm": {
     "name": "#%%\n"
    }
   },
   "outputs": [
    {
     "ename": "SystemExit",
     "evalue": "1",
     "output_type": "error",
     "traceback": [
      "\u001b[0;31m---------------------------------------------------------------------------\u001b[0m",
      "\u001b[0;31mSystemExit\u001b[0m                                Traceback (most recent call last)",
      "Input \u001b[0;32mIn [5]\u001b[0m, in \u001b[0;36m<cell line: 4>\u001b[0;34m()\u001b[0m\n\u001b[1;32m      1\u001b[0m \u001b[38;5;66;03m# The graph in the database is the Cora graph with vertex \"Paper2\" \u001b[39;00m\n\u001b[1;32m      2\u001b[0m \u001b[38;5;66;03m# and edge \"Cite2\". The schema information is shown below.\u001b[39;00m\n\u001b[0;32m----> 4\u001b[0m \u001b[38;5;28mprint\u001b[39m(\u001b[43mconn\u001b[49m\u001b[38;5;241;43m.\u001b[39;49m\u001b[43mgsql\u001b[49m\u001b[43m(\u001b[49m\u001b[38;5;124;43m\"\u001b[39;49m\u001b[38;5;124;43mls\u001b[39;49m\u001b[38;5;124;43m\"\u001b[39;49m\u001b[43m)\u001b[49m)\n",
      "File \u001b[0;32m/opt/homebrew/lib/python3.9/site-packages/pyTigerGraph/pyTigerGraph.py:1726\u001b[0m, in \u001b[0;36mTigerGraphConnection.gsql\u001b[0;34m(self, query, graphname, options)\u001b[0m\n\u001b[1;32m   1724\u001b[0m \u001b[38;5;28;01melse\u001b[39;00m:\n\u001b[1;32m   1725\u001b[0m     \u001b[38;5;28mprint\u001b[39m(\u001b[38;5;124m\"\u001b[39m\u001b[38;5;124mCouldn\u001b[39m\u001b[38;5;124m'\u001b[39m\u001b[38;5;124mt Initialize the client see Above Error\u001b[39m\u001b[38;5;124m\"\u001b[39m)\n\u001b[0;32m-> 1726\u001b[0m     \u001b[43msys\u001b[49m\u001b[38;5;241;43m.\u001b[39;49m\u001b[43mexit\u001b[49m\u001b[43m(\u001b[49m\u001b[38;5;241;43m1\u001b[39;49m\u001b[43m)\u001b[49m\n\u001b[1;32m   1728\u001b[0m \u001b[38;5;28;01mreturn\u001b[39;00m\n",
      "\u001b[0;31mSystemExit\u001b[0m: 1"
     ]
    },
    {
     "name": "stdout",
     "output_type": "stream",
     "text": [
      "Connection Failed check your Username/Password [Errno 61] Connection refused\n",
      "Couldn't Initialize the client see Above Error\n"
     ]
    },
    {
     "ename": "SystemExit",
     "evalue": "1",
     "output_type": "error",
     "traceback": [
      "An exception has occurred, use %tb to see the full traceback.\n",
      "\u001b[0;31mSystemExit\u001b[0m\u001b[0;31m:\u001b[0m 1\n"
     ]
    }
   ],
   "source": [
    "%tb\n",
    "# The graph in the database is the Cora graph with vertex \"Paper2\" \n",
    "# and edge \"Cite2\". The schema information is shown below.\n",
    "\n",
    "print(conn.gsql(\"ls\"))"
   ]
  },
  {
   "cell_type": "markdown",
   "id": "9cb08831-375e-40f5-a50c-9f0dfc089db5",
   "metadata": {
    "pycharm": {
     "name": "#%% md\n"
    }
   },
   "source": [
    "#### Get graph sizes"
   ]
  },
  {
   "cell_type": "code",
   "execution_count": 4,
   "id": "4a3f1720-ce85-4ba8-8b01-7559bc499640",
   "metadata": {
    "pycharm": {
     "name": "#%%\n"
    }
   },
   "outputs": [
    {
     "data": {
      "text/plain": [
       "{'Paper2': 2708}"
      ]
     },
     "execution_count": 4,
     "metadata": {},
     "output_type": "execute_result"
    }
   ],
   "source": [
    "# Get number of vertices of every type\n",
    "conn.getVertexCount('*')"
   ]
  },
  {
   "cell_type": "code",
   "execution_count": 5,
   "id": "c19210f3-f343-4067-a419-631b2cbefa69",
   "metadata": {
    "pycharm": {
     "name": "#%%\n"
    }
   },
   "outputs": [
    {
     "data": {
      "text/plain": [
       "2708"
      ]
     },
     "execution_count": 5,
     "metadata": {},
     "output_type": "execute_result"
    }
   ],
   "source": [
    "# Get number of vertices of a specific type\n",
    "conn.getVertexCount('Paper2')"
   ]
  },
  {
   "cell_type": "code",
   "execution_count": 6,
   "id": "4252f454-0c40-479c-83d9-121819ecefbd",
   "metadata": {
    "pycharm": {
     "name": "#%%\n"
    }
   },
   "outputs": [
    {
     "data": {
      "text/plain": [
       "{'Cite2': 10556}"
      ]
     },
     "execution_count": 6,
     "metadata": {},
     "output_type": "execute_result"
    }
   ],
   "source": [
    "# Get number of edges of every type\n",
    "conn.getEdgeCount('*')"
   ]
  },
  {
   "cell_type": "code",
   "execution_count": 7,
   "id": "db06d713-1070-4c7d-8b0b-4d6b9f2412d9",
   "metadata": {
    "pycharm": {
     "name": "#%%\n"
    }
   },
   "outputs": [
    {
     "data": {
      "text/plain": [
       "10556"
      ]
     },
     "execution_count": 7,
     "metadata": {},
     "output_type": "execute_result"
    }
   ],
   "source": [
    "# Get number of edges of a specific type\n",
    "conn.getEdgeCount('Cite2')"
   ]
  },
  {
   "cell_type": "markdown",
   "id": "b1f4b7b4-b0e8-4836-bab1-90ae1eb2d8bc",
   "metadata": {
    "pycharm": {
     "name": "#%% md\n"
    }
   },
   "source": [
    "#### Randomly split edges to train/test sets\n",
    "\n",
    "The split results are stored in the provided edge attributes. Each boolean attribute indicates which part an edge belongs to. The attributes have to be present in the database.\n",
    "\n",
    "In the code below, a random 80% of edges will have their attribute \"train_mask\" set to True, and a random 20% of edges will have their attribute \"val_mask\" set to True. The two parts are disjoint."
   ]
  },
  {
   "cell_type": "code",
   "execution_count": 8,
   "id": "8149f608-7d9b-463e-bc64-23e1217efee9",
   "metadata": {
    "pycharm": {
     "name": "#%%\n"
    }
   },
   "outputs": [
    {
     "name": "stdout",
     "output_type": "stream",
     "text": [
      "Installing and optimizing queries. It might take a minute if this is the first time you use this loader.\n",
      "Query installation finished.\n",
      "Splitting edges...\n",
      "Edge split finished successfully.\n"
     ]
    }
   ],
   "source": [
    "splitter = conn.gds.edgeSplitter(train_mask=0.8, val_mask=0.2)\n",
    "splitter.run()"
   ]
  },
  {
   "cell_type": "markdown",
   "id": "03416153-9064-4586-ab87-1f109ca40be6",
   "metadata": {
    "pycharm": {
     "name": "#%% md\n"
    }
   },
   "source": [
    "#### Get subgraphs for each partition of edges"
   ]
  },
  {
   "cell_type": "markdown",
   "id": "a6e1d6e7-e049-49cc-9461-56f9e2c96c0a",
   "metadata": {
    "pycharm": {
     "name": "#%% md\n"
    }
   },
   "source": [
    "We first get the subgraph from edges in the training set by setting `filter_by=\"train_mask\"`. Since the graph is small, we can pull the whole subgraph at once `num_batches=1`; otherwise, we can pull the subgraph in batches."
   ]
  },
  {
   "cell_type": "code",
   "execution_count": 9,
   "id": "1fc8f6a9-cb3d-44a0-adf0-9e1cad0d3089",
   "metadata": {
    "pycharm": {
     "name": "#%%\n"
    }
   },
   "outputs": [
    {
     "name": "stdout",
     "output_type": "stream",
     "text": [
      "Installing and optimizing queries. It might take a minute if this is the first time you use this loader.\n",
      "Query installation finished.\n"
     ]
    }
   ],
   "source": [
    "train_loader = conn.gds.graphLoader(\n",
    "    v_in_feats=[\"x\"],\n",
    "    v_out_labels=[],\n",
    "    v_extra_feats=[],\n",
    "    e_in_feats=[\"time\"],\n",
    "    e_out_labels=[],\n",
    "    e_extra_feats=[\"train_mask\", \"val_mask\"],\n",
    "    num_batches=1,\n",
    "    shuffle=False,\n",
    "    filter_by=\"train_mask\",\n",
    "    output_format=\"PyG\",\n",
    "    add_self_loop=False,\n",
    "    loader_id=None,\n",
    "    buffer_size=4\n",
    ")"
   ]
  },
  {
   "cell_type": "code",
   "execution_count": 10,
   "id": "e1f78e84-8671-4140-a558-b0cc6133149e",
   "metadata": {
    "pycharm": {
     "name": "#%%\n"
    }
   },
   "outputs": [
    {
     "data": {
      "text/plain": [
       "Data(edge_index=[2, 8426], edge_feat=[8426], train_mask=[8426], val_mask=[8426], x=[2689, 1433])"
      ]
     },
     "execution_count": 10,
     "metadata": {},
     "output_type": "execute_result"
    }
   ],
   "source": [
    "# Get data from the data loader\n",
    "train_graph = train_loader.data\n",
    "# Edge features provided by `e_in_feats` are converted to \n",
    "# tensor `edge_feat`\n",
    "train_graph"
   ]
  },
  {
   "cell_type": "markdown",
   "id": "51cb9ec8-04ef-4b08-bd88-ed212fcec6e9",
   "metadata": {
    "pycharm": {
     "name": "#%% md\n"
    }
   },
   "source": [
    "We then get the subgraph from edges in the validation set by setting `filter_by=\"val_mask\"`. Since the graph is small, we can pull the whole subgraph at once `num_batches=1`; otherwise, we can pull the subgraph in batches."
   ]
  },
  {
   "cell_type": "code",
   "execution_count": 11,
   "id": "2afe6dba-3668-45b9-abd5-5be1a5ed4f29",
   "metadata": {
    "pycharm": {
     "name": "#%%\n"
    }
   },
   "outputs": [],
   "source": [
    "val_loader = conn.gds.graphLoader(\n",
    "    v_in_feats=[\"x\"],\n",
    "    v_out_labels=[],\n",
    "    v_extra_feats=[],\n",
    "    e_in_feats=[\"time\"],\n",
    "    e_out_labels=[],\n",
    "    e_extra_feats=[\"train_mask\", \"val_mask\"],\n",
    "    num_batches=1,\n",
    "    shuffle=False,\n",
    "    filter_by=\"val_mask\",\n",
    "    output_format=\"PyG\",\n",
    "    add_self_loop=False,\n",
    "    loader_id=None,\n",
    "    buffer_size=4\n",
    ")"
   ]
  },
  {
   "cell_type": "code",
   "execution_count": 12,
   "id": "16ac314a-83ff-4d4c-b922-b406f5f0e837",
   "metadata": {
    "pycharm": {
     "name": "#%%\n"
    }
   },
   "outputs": [
    {
     "data": {
      "text/plain": [
       "Data(edge_index=[2, 2130], edge_feat=[2130], train_mask=[2130], val_mask=[2130], x=[1887, 1433])"
      ]
     },
     "execution_count": 12,
     "metadata": {},
     "output_type": "execute_result"
    }
   ],
   "source": [
    "# Get data from the validation data loader\n",
    "val_graph = val_loader.data\n",
    "# Edge features provided by `e_in_feats` are converted to \n",
    "# tensor `edge_feat`\n",
    "val_graph"
   ]
  },
  {
   "cell_type": "code",
   "execution_count": null,
   "id": "3d98af21-13bd-4a40-816e-c5ab20dd4644",
   "metadata": {
    "pycharm": {
     "name": "#%%\n"
    }
   },
   "outputs": [],
   "source": []
  }
 ],
 "metadata": {
  "kernelspec": {
   "display_name": "Python 3 (ipykernel)",
   "language": "python",
   "name": "python3"
  },
  "language_info": {
   "codemirror_mode": {
    "name": "ipython",
    "version": 3
   },
   "file_extension": ".py",
   "mimetype": "text/x-python",
   "name": "python",
   "nbconvert_exporter": "python",
   "pygments_lexer": "ipython3",
   "version": "3.9.12"
  }
 },
 "nbformat": 4,
 "nbformat_minor": 5
}
