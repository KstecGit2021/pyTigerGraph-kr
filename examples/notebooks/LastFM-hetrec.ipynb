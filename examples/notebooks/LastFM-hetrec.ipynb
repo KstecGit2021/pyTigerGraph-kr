{
 "cells": [
  {
   "cell_type": "code",
   "execution_count": null,
   "id": "eff02162-1b79-46a3-8831-1ee21c0cbb33",
   "metadata": {},
   "outputs": [],
   "source": [
    "import os\n",
    "import sys\n",
    "import csv\n",
    "import numpy as np\n",
    "import pandas as pd\n",
    "from datetime import datetime\n",
    "\n",
    "encoding = \"ISO-8859-1\"\n",
    "\n",
    "data_dir = os.path.join(\"..\", \"data\")\n",
    "artists_tsv = os.path.join(data_dir, \"artists.dat\")\n",
    "tags_tsv = os.path.join(data_dir, \"tags.dat\")\n",
    "user_artists_tsv = os.path.join(data_dir, \"user_artists.dat\")\n",
    "user_friends_tsv = os.path.join(data_dir, \"user_friends.dat\")\n",
    "user_taggedartists_tsv = os.path.join(data_dir, \"user_taggedartists-timestamps.dat\")"
   ]
  },
  {
   "cell_type": "code",
   "execution_count": null,
   "id": "a38bef54-b37c-4d1a-8627-308b20b4267a",
   "metadata": {},
   "outputs": [],
   "source": [
    "artists_df = pd.read_table(artists_tsv, encoding=encoding)  # tab-separated\n",
    "artists_df.head()"
   ]
  },
  {
   "cell_type": "code",
   "execution_count": null,
   "id": "ef27697e-08ba-41fe-8f15-9d824edd1a4c",
   "metadata": {},
   "outputs": [],
   "source": [
    "tags_df = pd.read_table(tags_tsv, encoding=encoding)\n",
    "tags_df.head()"
   ]
  },
  {
   "cell_type": "code",
   "execution_count": null,
   "id": "d9eab3bc-1201-4ab7-8fa8-26559517726c",
   "metadata": {},
   "outputs": [],
   "source": [
    "friends_df = pd.read_table(user_friends_tsv, encoding=encoding)  # Undirected user-user edges\n",
    "friends_df.head()"
   ]
  },
  {
   "cell_type": "code",
   "execution_count": null,
   "id": "37f5d668-03cd-4532-b86b-fd4f0b6c916a",
   "metadata": {},
   "outputs": [],
   "source": [
    "listened_df = pd.read_table(user_artists_tsv, encoding=encoding)  # Directed user-item(artist) edges with weight (listening count)\n",
    "listened_df.head()"
   ]
  },
  {
   "cell_type": "code",
   "execution_count": null,
   "id": "dec28cb2-c6ed-49fb-8504-36eb8fd3f4f5",
   "metadata": {},
   "outputs": [],
   "source": [
    "assigned_df = pd.read_table(user_taggedartists_tsv, encoding=encoding)  # Directed user-tag-item edges with timestamp (ms from epoch)\n",
    "assigned_df.head()"
   ]
  },
  {
   "cell_type": "code",
   "execution_count": null,
   "id": "e0496388-2b3d-41b5-9b88-b3e18a235cc2",
   "metadata": {},
   "outputs": [],
   "source": [
    "datetime.fromtimestamp(1238536800)"
   ]
  },
  {
   "cell_type": "code",
   "execution_count": null,
   "id": "38e5d69e-6eae-4b7d-99f4-f14d8da3935b",
   "metadata": {},
   "outputs": [],
   "source": [
    "artists_ids = artists_df[\"id\"].unique().tolist()\n",
    "len(artists_ids), max(artists_ids)"
   ]
  },
  {
   "cell_type": "code",
   "execution_count": null,
   "id": "3836505e-2650-4fcb-bb3d-6bacb025a053",
   "metadata": {},
   "outputs": [],
   "source": [
    "tag_ids = tags_df[\"tagID\"].unique().tolist()\n",
    "len(tag_ids), max(tag_ids)"
   ]
  },
  {
   "cell_type": "code",
   "execution_count": null,
   "id": "738ba5fc-ba15-479c-867b-67582a894579",
   "metadata": {},
   "outputs": [],
   "source": [
    "user_ids = set(friends_df[\"userID\"].unique().tolist() + friends_df[\"friendID\"].unique().tolist())\n",
    "len(user_ids), max(user_ids)"
   ]
  },
  {
   "cell_type": "markdown",
   "id": "05666f5d-8d53-4e4e-8545-a2323a02fb4a",
   "metadata": {},
   "source": [
    "# Create mappings from user/artist/tag IDs to global node IDs"
   ]
  },
  {
   "cell_type": "code",
   "execution_count": null,
   "id": "74623cc3-5740-46ec-a154-40f79d9373a4",
   "metadata": {},
   "outputs": [],
   "source": [
    "num_users, num_artists, num_tags = len(user_ids), len(artists_ids), len(tag_ids)"
   ]
  },
  {
   "cell_type": "code",
   "execution_count": null,
   "id": "b95d04ea-4d41-4c00-b27d-ee74f12241fc",
   "metadata": {},
   "outputs": [],
   "source": [
    "user_id2global, artist_id2global, tag_id2global = dict(), dict(), dict()\n",
    "\n",
    "for i, n in enumerate(user_ids):\n",
    "    user_id2global[n] = i\n",
    "\n",
    "for i, n in enumerate(artists_ids):\n",
    "    artist_id2global[n] = int(num_users + i)\n",
    "\n",
    "for i, n in enumerate(tag_ids):\n",
    "    tag_id2global[n] = int(num_users + num_artists + i)"
   ]
  },
  {
   "cell_type": "code",
   "execution_count": null,
   "id": "437186bf-3571-4b50-96ec-524396f11224",
   "metadata": {},
   "outputs": [],
   "source": [
    "artists_df[\"global_id\"] = artists_df[\"id\"].map(artist_id2global)\n",
    "tags_df[\"global_tagID\"] = tags_df[\"tagID\"].map(tag_id2global)\n",
    "\n",
    "friends_df[\"global_userID\"] = friends_df[\"userID\"].map(user_id2global)\n",
    "friends_df[\"global_friendID\"] = friends_df[\"friendID\"].map(user_id2global)\n",
    "\n",
    "listened_df[\"global_userID\"] = listened_df[\"userID\"].map(user_id2global)\n",
    "listened_df[\"global_artistID\"] = listened_df[\"artistID\"].map(artist_id2global)\n",
    "\n",
    "assigned_df = assigned_df[assigned_df[\"artistID\"].isin(artist_id2global.keys())]\n",
    "assigned_df[\"global_userID\"] = assigned_df[\"userID\"].map(user_id2global)\n",
    "assigned_df[\"global_artistID\"] = assigned_df[\"artistID\"].map(artist_id2global)\n",
    "assigned_df[\"global_tagID\"] = assigned_df[\"tagID\"].map(tag_id2global)\n",
    "assigned_df[\"timestamp_s\"] = assigned_df[\"timestamp\"] // 1000  # ms -> s from epoch\n",
    "\n",
    "assigned_df.head()"
   ]
  },
  {
   "cell_type": "code",
   "execution_count": null,
   "id": "a8dc2f30-d5fa-49e4-9312-8c467f7f76c9",
   "metadata": {},
   "outputs": [],
   "source": [
    "nan_df = assigned_df[assigned_df[\"global_artistID\"].isna()]\n",
    "nan_df"
   ]
  },
  {
   "cell_type": "markdown",
   "id": "1de6c392-bc47-4c17-9fcf-e518a68c0260",
   "metadata": {},
   "source": [
    "# Write node and edge list CSV files with global node IDs"
   ]
  },
  {
   "cell_type": "code",
   "execution_count": null,
   "id": "2391a564-60bb-473a-81da-169a9d08b43f",
   "metadata": {},
   "outputs": [],
   "source": [
    "users_csv = os.path.join(data_dir, \"users.csv\")\n",
    "artists_csv = os.path.join(data_dir, \"artists.csv\")\n",
    "tags_csv = os.path.join(data_dir, \"tags.csv\")\n",
    "\n",
    "user_artists_csv = os.path.join(data_dir, \"user_artists.csv\")\n",
    "user_friends_csv = os.path.join(data_dir, \"user_friends.csv\")\n",
    "user_taggedartists_csv = os.path.join(data_dir, \"user_taggedartists.csv\")"
   ]
  },
  {
   "cell_type": "code",
   "execution_count": null,
   "id": "d8e386c4-39b5-4207-8671-762603e602d9",
   "metadata": {},
   "outputs": [],
   "source": [
    "orig_user_ids = list(user_id2global.keys())\n",
    "global_user_ids = [int(user_id2global[n]) for n in orig_user_ids]\n",
    "user_id_df = pd.DataFrame({\"global_id\": global_user_ids, \"orig_id\": orig_user_ids})\n",
    "user_id_df.to_csv(users_csv, index=False)\n",
    "user_id_df.head()"
   ]
  },
  {
   "cell_type": "code",
   "execution_count": null,
   "id": "1d946e7b-9b0e-4367-b1d9-adb9b33ea9be",
   "metadata": {},
   "outputs": [],
   "source": [
    "artist_id_df = artists_df[[\"global_id\", \"id\"]].rename(columns={\"id\": \"orig_id\"}).astype(int)\n",
    "artist_id_df.to_csv(artists_csv, index=False)\n",
    "artist_id_df.head()"
   ]
  },
  {
   "cell_type": "code",
   "execution_count": null,
   "id": "d993e451-8240-4c43-affc-d863d60ba71e",
   "metadata": {},
   "outputs": [],
   "source": [
    "tag_id_df = tags_df[[\"global_tagID\", \"tagID\"]].rename(columns={\"global_tagID\": \"global_id\", \"tagID\": \"orig_id\"}).astype(int)\n",
    "tag_id_df.to_csv(tags_csv, index=False)\n",
    "tag_id_df.head()"
   ]
  },
  {
   "cell_type": "code",
   "execution_count": null,
   "id": "849a9b08-480a-4fb2-8f1f-85e0b12eeea4",
   "metadata": {},
   "outputs": [],
   "source": [
    "user_artists_df = listened_df[[\"global_userID\", \"global_artistID\", \"weight\"]].rename(columns={\"global_userID\": \"user_id\", \"global_artistID\": \"artist_id\"}).astype(int)\n",
    "user_artists_df.to_csv(user_artists_csv, index=False)\n",
    "user_artists_df.head()"
   ]
  },
  {
   "cell_type": "code",
   "execution_count": null,
   "id": "27f6dc9b-e506-4b20-9510-75227b419b4c",
   "metadata": {},
   "outputs": [],
   "source": [
    "user_friends_df = friends_df[[\"global_userID\", \"global_friendID\"]].rename(columns={\"global_userID\": \"user_id\", \"global_friendID\": \"friend_id\"}).astype(int)\n",
    "user_friends_df.to_csv(user_friends_csv, index=False)\n",
    "user_friends_df.head()"
   ]
  },
  {
   "cell_type": "code",
   "execution_count": null,
   "id": "f7e68a4b-4763-4a47-94a3-66880eea3f36",
   "metadata": {},
   "outputs": [],
   "source": [
    "user_taggedartists_df = assigned_df[[\"global_userID\", \"global_tagID\", \"global_artistID\", \"timestamp_s\"]]\\\n",
    "    .rename(columns={\"global_userID\": \"user_id\", \"global_artistID\": \"artist_id\", \"global_tagID\": \"tag_id\", \"timestamp_s\": \"timestamp\"})\n",
    "print(user_taggedartists_df.isnull().any())\n",
    "user_taggedartists_df.astype(int).to_csv(user_taggedartists_csv, index=False)\n",
    "user_taggedartists_df.head()"
   ]
  },
  {
   "cell_type": "code",
   "execution_count": null,
   "id": "8872ca49-bc53-48a4-ae21-b9aff4196408",
   "metadata": {},
   "outputs": [],
   "source": []
  }
 ],
 "metadata": {
  "kernelspec": {
   "display_name": "Tigergraph Pytorch",
   "language": "python",
   "name": "python3"
  },
  "language_info": {
   "codemirror_mode": {
    "name": "ipython",
    "version": 3
   },
   "file_extension": ".py",
   "mimetype": "text/x-python",
   "name": "python",
   "nbconvert_exporter": "python",
   "pygments_lexer": "ipython3",
   "version": "3.9.10"
  }
 },
 "nbformat": 4,
 "nbformat_minor": 5
}
