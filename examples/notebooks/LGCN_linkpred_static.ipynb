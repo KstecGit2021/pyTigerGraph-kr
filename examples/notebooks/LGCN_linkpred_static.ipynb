{
 "cells": [
  {
   "cell_type": "code",
   "execution_count": 1,
   "metadata": {
    "pycharm": {
     "name": "#%%\n"
    }
   },
   "outputs": [
    {
     "name": "stdout",
     "output_type": "stream",
     "text": [
      "['/home/tigergraph/tgsandbox/pyTigerGraph', '/home/tigergraph/tgsandbox/gnn-recsys-sandbox/notebooks', '/home/tigergraph/conda/lib/python39.zip', '/home/tigergraph/conda/lib/python3.9', '/home/tigergraph/conda/lib/python3.9/lib-dynload', '', '/home/tigergraph/conda/lib/python3.9/site-packages']\n"
     ]
    },
    {
     "data": {
      "text/plain": [
       "['/home/tigergraph/tgsandbox/pyTigerGraph/pyTigerGraph']"
      ]
     },
     "execution_count": 1,
     "metadata": {},
     "output_type": "execute_result"
    }
   ],
   "source": [
    "import sys\n",
    "\n",
    "# Prioritize the latest pyTigerGraph with edge-splitting\n",
    "sys.path.insert(0, \"/home/tigergraph/tgsandbox/pyTigerGraph\")\n",
    "print(sys.path)\n",
    "\n",
    "import pyTigerGraph\n",
    "pyTigerGraph.__path__"
   ]
  },
  {
   "cell_type": "markdown",
   "metadata": {
    "pycharm": {
     "name": "#%% md\n"
    }
   },
   "source": [
    "# Recommender System with GNNs on PyG\n",
    "Dataset: LastFM (based: [JODIE: Predicting Dynamic Embedding Trajectory in Temporal Interaction Networks](http://snap.stanford.edu/jodie/))\n",
    "GNN Model: LightGCN [\\[2002.02126\\] LightGCN: Simplifying and Powering Graph Convolution Network for Recommendation](https://arxiv.org/abs/2002.02126)"
   ]
  },
  {
   "cell_type": "markdown",
   "metadata": {
    "pycharm": {
     "name": "#%% md\n"
    }
   },
   "source": [
    "### Connect to TigerGraph"
   ]
  },
  {
   "cell_type": "code",
   "execution_count": 2,
   "metadata": {
    "collapsed": false,
    "jupyter": {
     "outputs_hidden": false
    },
    "pycharm": {
     "name": "#%%\n"
    }
   },
   "outputs": [],
   "source": [
    "from pyTigerGraph import TigerGraphConnection\n",
    "\n",
    "conn = TigerGraphConnection(\n",
    "    host=\"http://127.0.0.1\", # Change the address to your database server's\n",
    "    graphname=\"LastFM\",  # Specify LastFM dataset\n",
    "    username=\"tigergraph\",\n",
    "    password=\"tigergraph\"\n",
    ")"
   ]
  },
  {
   "cell_type": "code",
   "execution_count": 3,
   "metadata": {
    "collapsed": false,
    "jupyter": {
     "outputs_hidden": false
    },
    "pycharm": {
     "name": "#%%\n"
    }
   },
   "outputs": [
    {
     "name": "stdout",
     "output_type": "stream",
     "text": [
      "---- Graph LastFM\n",
      "Vertex Types:\n",
      "- VERTEX User(PRIMARY_ID vid INT, x LIST<INT>, y INT, train_mask BOOL, val_mask BOOL, test_mask BOOL) WITH STATS=\"OUTDEGREE_BY_EDGETYPE\", PRIMARY_ID_AS_ATTRIBUTE=\"true\"\n",
      "- VERTEX Item(PRIMARY_ID vid INT, x LIST<INT>, y INT, train_mask BOOL, val_mask BOOL, test_mask BOOL) WITH STATS=\"OUTDEGREE_BY_EDGETYPE\", PRIMARY_ID_AS_ATTRIBUTE=\"true\"\n",
      "Edge Types:\n",
      "- DIRECTED EDGE Interact(FROM User, TO Item, train_mask BOOL DEFAULT \"False\", val_mask BOOL DEFAULT \"False\", test_mask BOOL DEFAULT \"False\", time INT DEFAULT \"2000\")\n",
      "\n",
      "Graphs:\n",
      "- Graph LastFM(User:v, Item:v, Interact:e)\n",
      "Jobs:\n",
      "- CREATE LOADING JOB load_lastfm FOR GRAPH LastFM {\n",
      "DEFINE FILENAME item_file = \"/home/tigergraph/tgsandbox/gnn-recsys-sandbox/data/lastfm_items.csv\";\n",
      "DEFINE FILENAME edge_file = \"/home/tigergraph/tgsandbox/gnn-recsys-sandbox/data/lastfm_edges.csv\";\n",
      "DEFINE FILENAME user_file = \"/home/tigergraph/tgsandbox/gnn-recsys-sandbox/data/lastfm_users.csv\";\n",
      "LOAD user_file TO VERTEX User VALUES($\"node_id\", LIST(\"0\"), \"0\", \"False\", \"False\", \"False\") USING SEPARATOR=\",\", HEADER=\"true\", EOL=\"\\n\";\n",
      "LOAD item_file TO VERTEX Item VALUES($\"node_id\", LIST(\"0\"), \"0\", \"False\", \"False\", \"False\") USING SEPARATOR=\",\", HEADER=\"true\", EOL=\"\\n\";\n",
      "LOAD edge_file TO EDGE Interact VALUES($\"user_id\", $\"item_id\", \"False\", \"False\", \"False\", \"2000\") USING SEPARATOR=\",\", HEADER=\"true\", EOL=\"\\n\";\n",
      "}\n",
      "\n",
      "Queries:\n",
      "\n",
      "\n",
      "\n",
      "\n",
      "CPU times: user 8.67 ms, sys: 369 µs, total: 9.04 ms\n",
      "Wall time: 12 s\n"
     ]
    }
   ],
   "source": [
    "%%time\n",
    "# Basic metadata about the graph such as schema.\n",
    "print(conn.gsql(\"ls\"))"
   ]
  },
  {
   "cell_type": "code",
   "execution_count": 4,
   "metadata": {
    "collapsed": false,
    "jupyter": {
     "outputs_hidden": false
    },
    "pycharm": {
     "name": "#%%\n"
    }
   },
   "outputs": [
    {
     "name": "stdout",
     "output_type": "stream",
     "text": [
      "Vertex Count: {'User': 980, 'Item': 1000}\n",
      "Edge Count: {'Interact': 154993}\n"
     ]
    }
   ],
   "source": [
    "print(\"Vertex Count:\", conn.getVertexCount('*'))\n",
    "print(\"Edge Count:\", conn.getEdgeCount('*'))"
   ]
  },
  {
   "cell_type": "markdown",
   "metadata": {
    "pycharm": {
     "name": "#%% md\n"
    }
   },
   "source": [
    "(Custimization Point for pyTigerGraph)\n",
    " In order to handle bipartite graphs which is comprised of users and items, we explicty specify # of users and items - which is required to compute the similarty score between user embeddings and items embeddings in GNN models.  To create a matrix for users/items embedding, we need to know # of users and items.  To that end. pyTigerGraph should support functions or attributes to extract these numbers for bipartite graphs - by propopsing two functions - tgraph.number_of_source_vertices(), tgraph.number_of_target_vertices(). These proposed methods should be used for general graphs as long as we target recommendation tasks."
   ]
  },
  {
   "cell_type": "code",
   "execution_count": 5,
   "metadata": {
    "collapsed": false,
    "jupyter": {
     "outputs_hidden": false
    },
    "pycharm": {
     "name": "#%%\n"
    }
   },
   "outputs": [],
   "source": [
    "num_users, num_items = conn.getVertexCount(\"User\"), conn.getVertexCount(\"Item\")\n",
    "num_nodes = num_users + num_items"
   ]
  },
  {
   "cell_type": "markdown",
   "metadata": {
    "pycharm": {
     "name": "#%% md\n"
    }
   },
   "source": [
    "(Not needed for Recommender Systems since this is based on nodes !!) ### Train/validation/test split by nodes"
   ]
  },
  {
   "cell_type": "markdown",
   "metadata": {
    "pycharm": {
     "name": "#%% md\n"
    }
   },
   "source": [
    "In recommendation tasks, the input dataset must be split by edges instead of nodes. pyTigerGraph supports node masking to split dataset, but edge masking and custom functions, which extract subgraphs with specified set of edges (training / validation / testing edges ), should be also provided."
   ]
  },
  {
   "cell_type": "code",
   "execution_count": 6,
   "metadata": {
    "collapsed": false,
    "jupyter": {
     "outputs_hidden": false
    },
    "pycharm": {
     "name": "#%%\n"
    }
   },
   "outputs": [
    {
     "name": "stdout",
     "output_type": "stream",
     "text": [
      "Installing and optimizing queries. It might take a minute if this is the first time you use this loader.\n",
      "Query installation finished.\n",
      "Splitting edges...\n",
      "Edge split finished successfully.\n",
      "CPU times: user 159 ms, sys: 44.2 ms, total: 204 ms\n",
      "Wall time: 21.2 s\n"
     ]
    }
   ],
   "source": [
    "%%time\n",
    "# Train : Val : Test = 70 : 15 : 15\n",
    "splitter = conn.gds.edgeSplitter(train_mask=0.70, val_mask=0.15, test_mask=0.15)\n",
    "splitter.run()"
   ]
  },
  {
   "cell_type": "markdown",
   "metadata": {
    "pycharm": {
     "name": "#%% md\n"
    }
   },
   "source": [
    "(Customization Point to pyTigerGraph!) \n",
    "# Graph loader with edge features\n",
    "Currently the `GraphLoader` of pyTigerGraph only considers node-based labels but for recommender systems, it needs to support edge-based labels (training/validation/testing) to split datasets into training/validation/testing datasets by edge masking and custom functions. To implement this feature, we need to write GSQL to get edge-based labels. "
   ]
  },
  {
   "cell_type": "code",
   "execution_count": 7,
   "metadata": {
    "collapsed": false,
    "jupyter": {
     "outputs_hidden": false
    },
    "pycharm": {
     "name": "#%%\n"
    }
   },
   "outputs": [
    {
     "name": "stdout",
     "output_type": "stream",
     "text": [
      "Installing and optimizing queries. It might take a minute if this is the first time you use this loader.\n",
      "Query installation finished.\n"
     ]
    }
   ],
   "source": [
    "graph_loader = conn.gds.graphLoader(\n",
    "    v_in_feats=[\"x\"],\n",
    "    v_out_labels=[],\n",
    "    v_extra_feats=[],\n",
    "    e_in_feats=[\"time\"],\n",
    "    e_out_labels=[],\n",
    "    e_extra_feats=[\"train_mask\", \"val_mask\", \"test_mask\"],\n",
    "    num_batches=1,\n",
    "    shuffle=False,\n",
    "    output_format=\"PyG\",\n",
    "    add_self_loop=False,\n",
    "    loader_id=None,\n",
    "    buffer_size=4\n",
    ")"
   ]
  },
  {
   "cell_type": "code",
   "execution_count": 8,
   "metadata": {
    "collapsed": false,
    "jupyter": {
     "outputs_hidden": false
    },
    "pycharm": {
     "name": "#%%\n"
    }
   },
   "outputs": [
    {
     "data": {
      "text/plain": [
       "Data(edge_index=[2, 154993], edge_feat=[154993], train_mask=[154993], val_mask=[154993], test_mask=[154993], x=[1980])"
      ]
     },
     "execution_count": 8,
     "metadata": {},
     "output_type": "execute_result"
    }
   ],
   "source": [
    "# Get the whole graph from the loader in PyG format\n",
    "whole_graph = graph_loader.data\n",
    "whole_graph"
   ]
  },
  {
   "cell_type": "markdown",
   "metadata": {
    "pycharm": {
     "name": "#%% md\n"
    }
   },
   "source": [
    "(Customization Point to pyTorchGraph) \n",
    "## Extract sub-dataset by edges\n",
    "The following codes are not needed for node classification since PyG supports node-based partioning to trainining/validation/testing. As previously described, edge partioning is needed for link prediction or recommender tasks. To solve this constraint, The `GraphLoader` should provide custom functions to extract subgraphs for training/validation/testing  based on edges.  The following \"train_data\" or \"val_data'. .. indicate subgraphs in PyG. "
   ]
  },
  {
   "cell_type": "code",
   "execution_count": 9,
   "metadata": {
    "pycharm": {
     "name": "#%%\n"
    }
   },
   "outputs": [
    {
     "name": "stdout",
     "output_type": "stream",
     "text": [
      "Installing and optimizing queries. It might take a minute if this is the first time you use this loader.\n",
      "Query installation finished.\n"
     ]
    },
    {
     "data": {
      "text/plain": [
       "Data(edge_index=[2, 108572], edge_feat=[108572], train_mask=[108572], x=[1976])"
      ]
     },
     "execution_count": 9,
     "metadata": {},
     "output_type": "execute_result"
    }
   ],
   "source": [
    "train_loader = conn.gds.graphLoader(\n",
    "    v_in_feats=[\"x\"],\n",
    "    v_out_labels=[],\n",
    "    v_extra_feats=[],\n",
    "    e_in_feats=[\"time\"],\n",
    "    e_out_labels=[],\n",
    "    e_extra_feats=[\"train_mask\"],\n",
    "    num_batches=1,\n",
    "    shuffle=False,\n",
    "    filter_by=\"train_mask\",\n",
    "    output_format=\"PyG\",\n",
    "    add_self_loop=False,\n",
    "    loader_id=None,\n",
    "    buffer_size=4\n",
    ")\n",
    "train_graph = train_loader.data\n",
    "train_graph"
   ]
  },
  {
   "cell_type": "code",
   "execution_count": 10,
   "metadata": {
    "pycharm": {
     "name": "#%%\n"
    }
   },
   "outputs": [
    {
     "name": "stdout",
     "output_type": "stream",
     "text": [
      "Installing and optimizing queries. It might take a minute if this is the first time you use this loader.\n",
      "Query installation finished.\n"
     ]
    },
    {
     "data": {
      "text/plain": [
       "Data(edge_index=[2, 23423], edge_feat=[23423], val_mask=[23423], x=[1926])"
      ]
     },
     "execution_count": 10,
     "metadata": {},
     "output_type": "execute_result"
    }
   ],
   "source": [
    "val_loader = conn.gds.graphLoader(\n",
    "    v_in_feats=[\"x\"],\n",
    "    v_out_labels=[],\n",
    "    v_extra_feats=[],\n",
    "    e_in_feats=[\"time\"],\n",
    "    e_out_labels=[],\n",
    "    e_extra_feats=[\"val_mask\"],\n",
    "    num_batches=1,\n",
    "    shuffle=False,\n",
    "    filter_by=\"val_mask\",\n",
    "    output_format=\"PyG\",\n",
    "    add_self_loop=False,\n",
    "    loader_id=None,\n",
    "    buffer_size=4\n",
    ")\n",
    "val_graph = val_loader.data\n",
    "val_graph"
   ]
  },
  {
   "cell_type": "code",
   "execution_count": 11,
   "metadata": {
    "pycharm": {
     "name": "#%%\n"
    }
   },
   "outputs": [
    {
     "name": "stdout",
     "output_type": "stream",
     "text": [
      "Installing and optimizing queries. It might take a minute if this is the first time you use this loader.\n",
      "Query installation finished.\n"
     ]
    },
    {
     "data": {
      "text/plain": [
       "Data(edge_index=[2, 22998], edge_feat=[22998], test_mask=[22998], x=[1924])"
      ]
     },
     "execution_count": 11,
     "metadata": {},
     "output_type": "execute_result"
    }
   ],
   "source": [
    "test_loader = conn.gds.graphLoader(\n",
    "    v_in_feats=[\"x\"],\n",
    "    v_out_labels=[],\n",
    "    v_extra_feats=[],\n",
    "    e_in_feats=[\"time\"],\n",
    "    e_out_labels=[],\n",
    "    e_extra_feats=[\"test_mask\"],\n",
    "    num_batches=1,\n",
    "    shuffle=False,\n",
    "    filter_by=\"test_mask\",\n",
    "    output_format=\"PyG\",\n",
    "    add_self_loop=False,\n",
    "    loader_id=None,\n",
    "    buffer_size=4\n",
    ")\n",
    "test_graph = test_loader.data\n",
    "test_graph"
   ]
  },
  {
   "cell_type": "markdown",
   "metadata": {
    "pycharm": {
     "name": "#%% md\n"
    }
   },
   "source": [
    "## Create and set bipartite edges to train/val/test subgraphs\n",
    "\n",
    "For each subgraph dataset (training, validation and testing), construct undirected bipartite edges for message passing in the LightGCN model from the directed edges as the ground-truth labels of the link prediction."
   ]
  },
  {
   "cell_type": "code",
   "execution_count": 12,
   "metadata": {
    "pycharm": {
     "name": "#%%\n"
    }
   },
   "outputs": [],
   "source": [
    "from torch_geometric.utils import to_undirected\n",
    "\n",
    "train_edge_index_d = train_graph.edge_index\n",
    "train_edge_index_u = to_undirected(train_edge_index_d)\n",
    "train_graph.edge_label_index = train_edge_index_d\n",
    "train_graph.edge_index = train_edge_index_u\n",
    "\n",
    "val_edge_index_d = val_graph.edge_index\n",
    "val_edge_index_u = to_undirected(val_edge_index_d)\n",
    "val_graph.edge_label_index = val_edge_index_d\n",
    "val_graph.edge_index = val_edge_index_u\n",
    "\n",
    "test_edge_index_d = test_graph.edge_index\n",
    "test_edge_index_u = to_undirected(test_edge_index_d)\n",
    "test_graph.edge_label_index = test_edge_index_d\n",
    "test_graph.edge_index = test_edge_index_u"
   ]
  },
  {
   "cell_type": "code",
   "execution_count": 13,
   "metadata": {
    "pycharm": {
     "name": "#%%\n"
    }
   },
   "outputs": [
    {
     "data": {
      "text/plain": [
       "(Data(edge_index=[2, 217144], edge_feat=[108572], train_mask=[108572], x=[1976], edge_label_index=[2, 108572]),\n",
       " Data(edge_index=[2, 46846], edge_feat=[23423], val_mask=[23423], x=[1926], edge_label_index=[2, 23423]),\n",
       " Data(edge_index=[2, 45996], edge_feat=[22998], test_mask=[22998], x=[1924], edge_label_index=[2, 22998]))"
      ]
     },
     "execution_count": 13,
     "metadata": {},
     "output_type": "execute_result"
    }
   ],
   "source": [
    "train_graph, val_graph, test_graph"
   ]
  },
  {
   "cell_type": "markdown",
   "metadata": {
    "pycharm": {
     "name": "#%% md\n"
    }
   },
   "source": [
    "# Construct LightGCN model and optimizer"
   ]
  },
  {
   "cell_type": "markdown",
   "metadata": {
    "pycharm": {
     "name": "#%% md\n"
    }
   },
   "source": [
    "We build a LightGCN model, and use the Adam optimizer with a learning rate of 0.001."
   ]
  },
  {
   "cell_type": "code",
   "execution_count": 14,
   "metadata": {
    "collapsed": false,
    "jupyter": {
     "outputs_hidden": false
    },
    "pycharm": {
     "name": "#%%\n"
    }
   },
   "outputs": [
    {
     "name": "stdout",
     "output_type": "stream",
     "text": [
      "LightGCN training configuration: Config(epochs=10, k=10, num_layers=2, batch_size=1000, embedding_dim=64, lr=0.001, model_name='lgcn', save_emb_dir=None)\n"
     ]
    }
   ],
   "source": [
    "import numpy as np\n",
    "import torch\n",
    "from torch.optim import Optimizer\n",
    "from torch_geometric.loader import DataLoader\n",
    "from torch_geometric.data import Data\n",
    "\n",
    "sys.path.append(\"..\")\n",
    "from recsys.model.lightgcn import LGCN\n",
    "from recsys.config import config\n",
    "from recsys.utils.sample_negative import sample_negative_edges\n",
    "from recsys.data.lastfm import LastFMDataset\n",
    "\n",
    "print(\"LightGCN training configuration:\", config)"
   ]
  },
  {
   "cell_type": "markdown",
   "metadata": {
    "pycharm": {
     "name": "#%% md\n"
    }
   },
   "source": [
    "## Construct model and optimizer"
   ]
  },
  {
   "cell_type": "code",
   "execution_count": 15,
   "metadata": {
    "collapsed": false,
    "jupyter": {
     "outputs_hidden": false
    },
    "pycharm": {
     "name": "#%%\n"
    }
   },
   "outputs": [],
   "source": [
    "device = torch.device('cuda' if torch.cuda.is_available() else 'cpu')\n",
    "input_dim = config.embedding_dim\n",
    "\n",
    "gnn = LGCN(\n",
    "    embedding_dim=input_dim,\n",
    "    num_nodes=num_nodes,\n",
    "    num_users=num_users,\n",
    "    num_layers=config.num_layers,\n",
    ").to(device)\n",
    "\n",
    "opt = torch.optim.Adam(gnn.parameters(), lr=config.lr)  # using Adam optimizer"
   ]
  },
  {
   "cell_type": "markdown",
   "metadata": {
    "pycharm": {
     "name": "#%% md\n"
    }
   },
   "source": [
    "## Training and Testing"
   ]
  },
  {
   "cell_type": "code",
   "execution_count": 16,
   "metadata": {
    "collapsed": false,
    "jupyter": {
     "outputs_hidden": false
    },
    "pycharm": {
     "name": "#%%\n"
    }
   },
   "outputs": [],
   "source": [
    "def train(\n",
    "    model,  # GNN (EvolveGCN) model\n",
    "    data_mp: Data,  # Message passing edges for multi-scale embedding propagation\n",
    "    loader: DataLoader,  # DataLoader in batches of supervision/evaluation edges\n",
    "    opt: Optimizer,  # Optimizer\n",
    "    num_customers: int,  # Number of user nodes\n",
    "    num_nodes: int,  # Number of total nodes (users + items)\n",
    "    device: torch.device,  # Device (CPU or GPU)\n",
    "):\n",
    "    total_loss = 0\n",
    "    total_examples = 0\n",
    "    model.train()\n",
    "    i = 0\n",
    "    for batch in loader:  # positive (existing) edges\n",
    "        i += 1\n",
    "        del batch.batch\n",
    "        del batch.ptr  # delete unwanted attributes\n",
    "\n",
    "        opt.zero_grad()\n",
    "        # Generate negative (non-existing) edges\n",
    "        negs = sample_negative_edges(batch, num_customers, num_nodes, device)\n",
    "        data_mp, batch, negs = data_mp.to(device), batch.to(device), negs.to(device)\n",
    "        loss = model.calc_loss(data_mp, batch, negs)  # Train and compute loss\n",
    "        loss.backward()\n",
    "        opt.step()\n",
    "\n",
    "        num_examples = batch.edge_index.shape[1]\n",
    "        total_loss += loss.item() * num_examples\n",
    "        total_examples += num_examples\n",
    "    avg_loss = total_loss / total_examples\n",
    "    return avg_loss"
   ]
  },
  {
   "cell_type": "code",
   "execution_count": 17,
   "metadata": {
    "collapsed": false,
    "jupyter": {
     "outputs_hidden": false
    },
    "pycharm": {
     "name": "#%%\n"
    }
   },
   "outputs": [],
   "source": [
    "def test(\n",
    "    model,  # GNN (EvolveGCN) model\n",
    "    data_mp: Data,  # Message passing edges for multi-scale embedding propagation\n",
    "    loader: DataLoader,  # DataLoader in batches of evaluation edges\n",
    "    k: int,  # Top-k\n",
    "    device: torch.device,  # Device (CPU or GPU)\n",
    "):\n",
    "    model.eval()\n",
    "    all_recalls = {}\n",
    "    with torch.no_grad():\n",
    "        data_mp = data_mp.to(device)  # Save multi-scale embeddings if save_dir is not None\n",
    "\n",
    "        # Run evaluation\n",
    "        for batch in loader:  # Batches of positive (existing) edges\n",
    "            del batch.batch; del batch.ptr  # delete unwanted attributes\n",
    "            batch = batch.to(device)\n",
    "            recalls = model.evaluation(data_mp, batch, k)  # Evaluate model performance\n",
    "            for customer_idx in recalls:\n",
    "                assert customer_idx not in all_recalls\n",
    "            all_recalls.update(recalls)\n",
    "    recall_at_k = np.mean(list(all_recalls.values()))\n",
    "    return recall_at_k"
   ]
  },
  {
   "cell_type": "markdown",
   "metadata": {
    "pycharm": {
     "name": "#%% md\n"
    }
   },
   "source": [
    "## Prepare existing edges for ground-truth data by representing them as edge list\n",
    "For each subgraph dataset (training, validation and testing), construct a `DataLoader` to load ground-truth positive (existing) edges for training."
   ]
  },
  {
   "cell_type": "code",
   "execution_count": 18,
   "metadata": {
    "collapsed": false,
    "jupyter": {
     "outputs_hidden": false
    },
    "pycharm": {
     "name": "#%%\n"
    }
   },
   "outputs": [],
   "source": [
    "train_existing_edges = LastFMDataset(\"tmp\", edge_index=train_graph.edge_label_index)\n",
    "val_existing_edges = LastFMDataset(\"tmp\", edge_index=val_graph.edge_label_index)\n",
    "test_existing_edges = LastFMDataset(\"tmp\", edge_index=test_graph.edge_label_index)\n",
    "\n",
    "train_label_loader = DataLoader(train_existing_edges, batch_size=config.batch_size, shuffle=True)\n",
    "val_label_loader = DataLoader(val_existing_edges, batch_size=config.batch_size, shuffle=False)\n",
    "test_label_loader = DataLoader(test_existing_edges, batch_size=config.batch_size, shuffle=False)"
   ]
  },
  {
   "cell_type": "markdown",
   "metadata": {
    "pycharm": {
     "name": "#%% md\n"
    }
   },
   "source": [
    "### Train the model"
   ]
  },
  {
   "cell_type": "code",
   "execution_count": 19,
   "metadata": {
    "collapsed": false,
    "jupyter": {
     "outputs_hidden": false
    },
    "pycharm": {
     "is_executing": true,
     "name": "#%%\n"
    }
   },
   "outputs": [
    {
     "name": "stderr",
     "output_type": "stream",
     "text": [
      "/home/tigergraph/conda/lib/python3.9/site-packages/torch_geometric/data/storage.py:259: UserWarning: Unable to accurately infer 'num_nodes' from the attribute set '{'edge_index'}'. Please explicitly set 'num_nodes' as an attribute of 'data' to suppress this warning\n",
      "  warnings.warn(\n"
     ]
    },
    {
     "name": "stdout",
     "output_type": "stream",
     "text": [
      "Epoch 0: train loss=0.693013, val_recall=0.063778, time=1.41[s]\n",
      "Epoch 1: train loss=0.692997, val_recall=0.064302, time=2.70[s]\n",
      "Epoch 2: train loss=0.692980, val_recall=0.064116, time=3.85[s]\n",
      "Epoch 3: train loss=0.692954, val_recall=0.064068, time=5.03[s]\n",
      "Epoch 4: train loss=0.692930, val_recall=0.063946, time=6.23[s]\n",
      "Epoch 5: train loss=0.692921, val_recall=0.063522, time=7.41[s]\n",
      "Epoch 6: train loss=0.692884, val_recall=0.063610, time=8.66[s]\n",
      "Epoch 7: train loss=0.692868, val_recall=0.063561, time=9.87[s]\n",
      "Epoch 8: train loss=0.692836, val_recall=0.063823, time=11.30[s]\n",
      "Epoch 9: train loss=0.692807, val_recall=0.063579, time=12.44[s]\n",
      "CPU times: user 1min 5s, sys: 2min 4s, total: 3min 9s\n",
      "Wall time: 12.4 s\n"
     ]
    }
   ],
   "source": [
    "%%time\n",
    "\n",
    "from time import time\n",
    "\n",
    "input_dim = config.embedding_dim\n",
    "\n",
    "all_train_losses = list()  # list of (epoch, training loss)\n",
    "all_val_recalls = list()  # list of (epoch, validation recall@k)\n",
    "all_train_recalls_lgcn = list()  # list of training recalls in LightGCN\n",
    "\n",
    "st = time()\n",
    "for epoch in range(config.epochs):\n",
    "    train_loss = train(gnn, train_graph, train_label_loader, opt, num_users, num_nodes, device)\n",
    "    all_train_losses.append((epoch, train_loss))\n",
    "\n",
    "    val_recall = test(gnn, val_graph, val_label_loader, config.k, device)\n",
    "    all_val_recalls.append((epoch, val_recall))\n",
    "    all_train_recalls_lgcn.append(val_recall)\n",
    "    tm = time() - st\n",
    "    print(f\"Epoch {epoch}: train loss={train_loss:.6f}, val_recall={val_recall:.6f}, time={tm:.2f}[s]\")"
   ]
  },
  {
   "cell_type": "markdown",
   "metadata": {
    "pycharm": {
     "name": "#%% md\n"
    }
   },
   "source": [
    "### Test the model"
   ]
  },
  {
   "cell_type": "code",
   "execution_count": 20,
   "metadata": {
    "collapsed": false,
    "jupyter": {
     "outputs_hidden": false
    },
    "pycharm": {
     "name": "#%%\n"
    }
   },
   "outputs": [
    {
     "name": "stdout",
     "output_type": "stream",
     "text": [
      "Best validation recall@k: 0.06430223753935325 at epoch 1\n",
      "Test set recall@k: 0.048975930912374704\n"
     ]
    }
   ],
   "source": [
    "# Print best validation recall@k value\n",
    "best_val_recall = max(all_val_recalls, key=lambda x: x[1])\n",
    "print(f\"Best validation recall@k: {best_val_recall[1]} at epoch {best_val_recall[0]}\")\n",
    "\n",
    "# Print final recall@k on test set\n",
    "test_recall = test(gnn, test_graph, test_label_loader, config.k, device)\n",
    "print(f\"Test set recall@k: {test_recall}\")"
   ]
  },
  {
   "cell_type": "markdown",
   "metadata": {
    "pycharm": {
     "name": "#%% md\n"
    }
   },
   "source": [
    "### Visualize testing results"
   ]
  },
  {
   "cell_type": "code",
   "execution_count": 21,
   "metadata": {
    "collapsed": false,
    "jupyter": {
     "outputs_hidden": false
    },
    "pycharm": {
     "name": "#%%\n"
    }
   },
   "outputs": [
    {
     "data": {
      "image/png": "[encoded data removed]",
      "text/plain": [
       "<Figure size 432x288 with 1 Axes>"
      ]
     },
     "metadata": {
      "needs_background": "light"
     },
     "output_type": "display_data"
    }
   ],
   "source": [
    "import matplotlib.pyplot as plt\n",
    "\n",
    "all_epochs = list(range(len(all_train_recalls_lgcn)))\n",
    "plt.plot(all_epochs, all_train_recalls_lgcn, label=\"LGCN\")\n",
    "plt.xlabel(\"Epoch\")\n",
    "plt.ylabel(\"Recall@k\")\n",
    "plt.title(f\"Train recalls (top-k: {config.k}, dim: {input_dim}, lr: {config.lr}\")\n",
    "plt.legend()\n",
    "plt.show()"
   ]
  },
  {
   "cell_type": "code",
   "execution_count": null,
   "metadata": {
    "pycharm": {
     "name": "#%%\n"
    }
   },
   "outputs": [],
   "source": []
  }
 ],
 "metadata": {
  "environment": {
   "name": "pytorch-gpu.1-9.m81",
   "type": "gcloud",
   "uri": "gcr.io/deeplearning-platform-release/pytorch-gpu.1-9:m81"
  },
  "interpreter": {
   "hash": "a3ffc3e0035b978270c84a2ad5dd87181b12d215691cb9f2ca8be8bb187aa590"
  },
  "kernelspec": {
   "display_name": "Tigergraph Pytorch",
   "language": "python",
   "name": "python3"
  },
  "language_info": {
   "codemirror_mode": {
    "name": "ipython",
    "version": 3
   },
   "file_extension": ".py",
   "mimetype": "text/x-python",
   "name": "python",
   "nbconvert_exporter": "python",
   "pygments_lexer": "ipython3",
   "version": "3.9.10"
  }
 },
 "nbformat": 4,
 "nbformat_minor": 4
}