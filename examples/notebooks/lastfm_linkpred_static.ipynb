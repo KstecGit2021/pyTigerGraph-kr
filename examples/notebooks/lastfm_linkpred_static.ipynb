{
 "cells": [
  {
   "cell_type": "code",
   "execution_count": 1,
   "metadata": {
    "pycharm": {
     "name": "#%%\n"
    }
   },
   "outputs": [
    {
     "name": "stdout",
     "output_type": "stream",
     "text": [
      "device: cpu\n"
     ]
    }
   ],
   "source": [
    "%load_ext autoreload\n",
    "%matplotlib inline\n",
    "from time import time\n",
    "import os\n",
    "import numpy as np\n",
    "import pandas as pd\n",
    "from icecream import ic as iprint\n",
    "import matplotlib.pyplot as plt\n",
    "from typing import Tuple\n",
    "\n",
    "from torch_geometric.transforms import RandomLinkSplit\n",
    "import torch\n",
    "from torch_geometric import seed_everything\n",
    "from torch.optim import Optimizer\n",
    "from torch_geometric.loader import DataLoader\n",
    "from torch_geometric.data import Data as PyGData\n",
    "\n",
    "import sys\n",
    "sys.path.append(\"..\")\n",
    "from recsys.data.lastfm import load_dataset, LastFMDataset\n",
    "# from recsys.model.egcn import EGCN\n",
    "from recsys.model.lightgcn import LGCN\n",
    "from recsys.data.types import DataLoaderConfig\n",
    "from recsys.utils.sample_negative import sample_negative_edges\n",
    "from recsys.config import config\n",
    "\n",
    "seed_everything(5)\n",
    "\n",
    "device = torch.device('cuda' if torch.cuda.is_available() else 'cpu')\n",
    "print(\"device:\", device)"
   ]
  },
  {
   "cell_type": "markdown",
   "metadata": {
    "pycharm": {
     "name": "#%% md\n"
    }
   },
   "source": [
    "# Load LastFM Dataset"
   ]
  },
  {
   "cell_type": "code",
   "execution_count": 2,
   "metadata": {
    "pycharm": {
     "name": "#%%\n"
    }
   },
   "outputs": [
    {
     "name": "stdout",
     "output_type": "stream",
     "text": [
      "CPU times: user 4.48 s, sys: 212 ms, total: 4.69 s\n",
      "Wall time: 4.99 s\n"
     ]
    }
   ],
   "source": [
    "%%time\n",
    "\n",
    "input_file = os.path.join(\"..\", \"data\", \"lastfm_adj.csv\")\n",
    "df = pd.read_csv(input_file)\n",
    "data, num_user_ids, num_item_ids = load_dataset(df, device)\n",
    "# iprint(data)"
   ]
  },
  {
   "cell_type": "markdown",
   "metadata": {
    "pycharm": {
     "name": "#%% md\n"
    }
   },
   "source": [
    "# Split LastFM Dataset"
   ]
  },
  {
   "cell_type": "code",
   "execution_count": 3,
   "metadata": {
    "collapsed": false,
    "jupyter": {
     "outputs_hidden": false
    },
    "pycharm": {
     "name": "#%%\n"
    }
   },
   "outputs": [],
   "source": [
    "def train_test_val_split(data: PyGData, config: DataLoaderConfig):\n",
    "    \"\"\"Split PyG graph data into training, validation and testing sub-data objects by edges\n",
    "    :param data: Original PyG graph data\n",
    "    :param config: Sub-data configuration\n",
    "    :return: Training, validation and testing PyG graph data objects\n",
    "    \"\"\"\n",
    "    print(\"| Splitting the graph into train, val and test\")\n",
    "    # Split edges into training, validation and testing datasets,\n",
    "    # and add reversed edges (item -> user) for message passing\n",
    "    transform = RandomLinkSplit(\n",
    "        is_undirected=True,\n",
    "        add_negative_train_samples=False,\n",
    "        num_val=config.val_split,\n",
    "        num_test=config.test_split,\n",
    "        neg_sampling_ratio=0,\n",
    "    )\n",
    "    train_split, val_split, test_split = transform(data)\n",
    "    iprint(train_split)\n",
    "\n",
    "    # Confirm that every node appears in every set above\n",
    "    assert (\n",
    "        train_split.num_nodes == val_split.num_nodes\n",
    "        and train_split.num_nodes == test_split.num_nodes\n",
    "    )\n",
    "    return train_split, val_split, test_split"
   ]
  },
  {
   "cell_type": "code",
   "execution_count": 4,
   "metadata": {
    "pycharm": {
     "name": "#%%\n"
    }
   },
   "outputs": [],
   "source": [
    "def create_dataloaders_generic(config: DataLoaderConfig, data: PyGData) -> Tuple[\n",
    "    Tuple[LastFMDataset, PyGData],\n",
    "    Tuple[LastFMDataset, PyGData],\n",
    "    Tuple[LastFMDataset, PyGData],\n",
    "]:\n",
    "    \"\"\"\n",
    "    :param config: Configuration for data splitting\n",
    "    :param data: Original PyG graph data\n",
    "    :return: Tuples (ground-truth edge data and PyG subgraph data for message passing)\n",
    "        for training, validation and testing datasets\n",
    "    \"\"\"\n",
    "    train_split, val_split, test_split = train_test_val_split(data, config)\n",
    "\n",
    "    # Edge data for ground-truth labels (only user -> item edges)\n",
    "    train_ev = LastFMDataset(\"temp\", edge_index=train_split.edge_label_index)\n",
    "    # PyG graph object with reversed edges for message passing\n",
    "    train_mp = PyGData(x=train_split.x, edge_index=train_split.edge_index)\n",
    "    iprint(train_ev.edge_index.shape)\n",
    "    iprint(train_mp)\n",
    "\n",
    "    val_ev = LastFMDataset(\"temp\", edge_index=val_split.edge_label_index)\n",
    "    val_mp = PyGData(x=val_split.x, edge_index=val_split.edge_index)\n",
    "\n",
    "    test_ev = LastFMDataset(\"temp\", edge_index=test_split.edge_label_index)\n",
    "    test_mp = PyGData(x=test_split.x, edge_index=test_split.edge_index)\n",
    "\n",
    "    return (\n",
    "        (train_ev, train_mp),\n",
    "        (val_ev, val_mp),\n",
    "        (test_ev, test_mp),\n",
    "    )"
   ]
  },
  {
   "cell_type": "code",
   "execution_count": 5,
   "metadata": {
    "pycharm": {
     "name": "#%%\n"
    }
   },
   "outputs": [
    {
     "name": "stdout",
     "output_type": "stream",
     "text": [
      "| Splitting the graph into train, val and test\n"
     ]
    },
    {
     "name": "stderr",
     "output_type": "stream",
     "text": [
      "ic| train_split: Data(x=[1980, 2], edge_index=[2, 1810346], edge_label=[905173], edge_label_index=[2, 905173])\n",
      "ic| train_ev.edge_index.shape: torch.Size([2, 905173])\n",
      "ic| train_mp: Data(x=[1980, 2], edge_index=[2, 1810346])\n"
     ]
    }
   ],
   "source": [
    "dl_conf = DataLoaderConfig(test_split=0.15, val_split=0.15)  # Train:Val:Test = 70:15:15\n",
    "train_t, val_t, test_t = create_dataloaders_generic(dl_conf, data)"
   ]
  },
  {
   "cell_type": "code",
   "execution_count": 6,
   "metadata": {
    "pycharm": {
     "name": "#%%\n"
    }
   },
   "outputs": [],
   "source": [
    "num_nodes = num_user_ids + num_item_ids"
   ]
  },
  {
   "cell_type": "code",
   "execution_count": 7,
   "metadata": {
    "pycharm": {
     "name": "#%%\n"
    }
   },
   "outputs": [],
   "source": [
    "# Data loader of ground-truth existing (positive) edges\n",
    "train_loader = DataLoader(train_t[0], batch_size=config.batch_size, shuffle=True)\n",
    "val_loader = DataLoader(val_t[0], batch_size=config.batch_size, shuffle=False)\n",
    "test_loader = DataLoader(test_t[0], batch_size=config.batch_size, shuffle=False)"
   ]
  },
  {
   "cell_type": "markdown",
   "metadata": {
    "pycharm": {
     "name": "#%% md\n"
    }
   },
   "source": [
    "# Training and Testing Process"
   ]
  },
  {
   "cell_type": "code",
   "execution_count": 8,
   "metadata": {
    "pycharm": {
     "name": "#%%\n"
    }
   },
   "outputs": [],
   "source": [
    "%autoreload\n",
    "def train(\n",
    "    model,  # GNN (EvolveGCN) model\n",
    "    data_mp: PyGData,  # Message passing edges for multi-scale embedding propagation\n",
    "    loader: DataLoader,  # DataLoader in batches of supervision/evaluation edges\n",
    "    opt: Optimizer,  # Optimizer\n",
    "    num_customers: int,  # Number of user nodes\n",
    "    num_nodes: int,  # Number of total nodes (users + items)\n",
    "    device: torch.device,  # Device (CPU or GPU)\n",
    "):\n",
    "    total_loss = 0\n",
    "    total_examples = 0\n",
    "    model.train()\n",
    "    i = 0\n",
    "    for batch in loader:  # positive (existing) edges\n",
    "        i += 1\n",
    "        del batch.batch\n",
    "        del batch.ptr  # delete unwanted attributes\n",
    "        \n",
    "        opt.zero_grad()\n",
    "        # Generate negative (non-existing) edges\n",
    "        negs = sample_negative_edges(batch, num_customers, num_nodes, device)\n",
    "        data_mp, batch, negs = data_mp.to(device), batch.to(device), negs.to(device)\n",
    "        loss = model.calc_loss(data_mp, batch, negs)  # Train and compute loss\n",
    "        loss.backward()\n",
    "        opt.step()\n",
    "\n",
    "        num_examples = batch.edge_index.shape[1]\n",
    "        total_loss += loss.item() * num_examples\n",
    "        total_examples += num_examples\n",
    "    avg_loss = total_loss / total_examples\n",
    "    return avg_loss\n",
    "\n",
    "def test(\n",
    "    model,  # GNN (EvolveGCN) model\n",
    "    data_mp: PyGData,  # Message passing edges for multi-scale embedding propagation\n",
    "    loader: DataLoader,  # DataLoader in batches of evaluation edges\n",
    "    k: int,  # Top-k\n",
    "    device: torch.device,  # Device (CPU or GPU)\n",
    "):\n",
    "    model.eval()\n",
    "    all_recalls = {}\n",
    "    with torch.no_grad():\n",
    "        data_mp = data_mp.to(device)  # Save multi-scale embeddings if save_dir is not None\n",
    "\n",
    "        # Run evaluation\n",
    "        for batch in loader:  # Batches of positive (existing) edges\n",
    "            del batch.batch; del batch.ptr  # delete unwanted attributes\n",
    "            batch = batch.to(device)\n",
    "            recalls = model.evaluation(data_mp, batch, k)  # Evaluate model performance\n",
    "            for customer_idx in recalls:\n",
    "                assert customer_idx not in all_recalls\n",
    "            all_recalls.update(recalls)\n",
    "    recall_at_k = np.mean(list(all_recalls.values()))\n",
    "    return recall_at_k"
   ]
  },
  {
   "cell_type": "markdown",
   "metadata": {
    "pycharm": {
     "name": "#%% md\n"
    }
   },
   "source": [
    "# Main Training Loop"
   ]
  },
  {
   "cell_type": "code",
   "execution_count": 9,
   "metadata": {
    "pycharm": {
     "name": "#%%\n"
    }
   },
   "outputs": [
    {
     "name": "stderr",
     "output_type": "stream",
     "text": [
      "/opt/homebrew/lib/python3.9/site-packages/torch_geometric/data/storage.py:261: UserWarning: Unable to accurately infer 'num_nodes' from the attribute set '{'edge_index'}'. Please explicitly set 'num_nodes' as an attribute of 'data' to suppress this warning\n",
      "  warnings.warn(\n"
     ]
    },
    {
     "name": "stdout",
     "output_type": "stream",
     "text": [
      "Epoch 0: train loss=0.692466, val_recall=0.001784, Time: 10.62[s]\n",
      "Epoch 1: train loss=0.692415, val_recall=0.001796, Time: 21.45[s]\n",
      "Epoch 2: train loss=0.692359, val_recall=0.001773, Time: 32.16[s]\n",
      "Epoch 3: train loss=0.692305, val_recall=0.001726, Time: 42.21[s]\n",
      "Epoch 4: train loss=0.692242, val_recall=0.001870, Time: 52.49[s]\n"
     ]
    }
   ],
   "source": [
    "%autoreload\n",
    "\n",
    "input_dim = config.embedding_dim\n",
    "\n",
    "all_train_losses = list()  # list of (epoch, training loss)\n",
    "all_val_recalls = list()  # list of (epoch, validation recall@k)\n",
    "all_train_recalls_lgcn = list()  # list of training recalls in LightGCN\n",
    "all_train_recalls_egcn = list()  # list of training recalls in EvolveGCN\n",
    "\n",
    "# Initialize GNN Model\n",
    "gnn = LGCN(\n",
    "    embedding_dim=input_dim,\n",
    "    num_nodes=num_nodes,\n",
    "    num_users=num_user_ids,\n",
    "    num_layers=config.num_layers,\n",
    ").to(device)\n",
    "\n",
    "opt = torch.optim.Adam(gnn.parameters(), lr=config.lr)  # using Adam optimizer\n",
    "\n",
    "st = time()\n",
    "for epoch in range(config.epochs):\n",
    "    train_loss = train(gnn, train_t[1], train_loader, opt, num_user_ids, num_nodes, device)\n",
    "    all_train_losses.append((epoch, train_loss))\n",
    "    val_recall = test(gnn, val_t[1], val_loader, config.k, device)\n",
    "    all_val_recalls.append((epoch, val_recall))\n",
    "    all_train_recalls_lgcn.append(val_recall)\n",
    "    tm = time() - st\n",
    "    print(f\"Epoch {epoch}: train loss={train_loss:.6f}, val_recall={val_recall:.6f}, Time: {tm:.2f}[s]\")"
   ]
  },
  {
   "cell_type": "code",
   "execution_count": 10,
   "metadata": {
    "collapsed": false,
    "jupyter": {
     "outputs_hidden": false
    },
    "pycharm": {
     "name": "#%%\n"
    }
   },
   "outputs": [
    {
     "name": "stdout",
     "output_type": "stream",
     "text": [
      "Best validation recall@k: 0.0018703667644613534 at epoch 4\n",
      "Test set recall@k: 0.0009241168913701247\n",
      "CPU times: user 5.64 s, sys: 958 ms, total: 6.6 s\n",
      "Wall time: 3.53 s\n"
     ]
    }
   ],
   "source": [
    "%%time\n",
    "# Print best validation recall@k value\n",
    "best_val_recall = max(all_val_recalls, key=lambda x: x[1])\n",
    "print(f\"Best validation recall@k: {best_val_recall[1]} at epoch {best_val_recall[0]}\")\n",
    "\n",
    "# Print final recall@k on test set\n",
    "test_recall = test(gnn, test_t[1], test_loader, config.k, device)\n",
    "print(f\"Test set recall@k: {test_recall}\")"
   ]
  },
  {
   "cell_type": "code",
   "execution_count": 13,
   "metadata": {
    "collapsed": false,
    "jupyter": {
     "outputs_hidden": false
    },
    "pycharm": {
     "name": "#%%\n"
    }
   },
   "outputs": [
    {
     "data": {
      "text/plain": "<Figure size 432x288 with 1 Axes>",
      "image/png": "[encoded data removed]"
     },
     "metadata": {
      "needs_background": "light"
     },
     "output_type": "display_data"
    }
   ],
   "source": [
    "all_epochs = list(range(len(all_train_recalls_lgcn)))\n",
    "plt.plot(all_epochs, all_train_recalls_lgcn, label=\"LGCN\")\n",
    "plt.xlabel(\"Epoch\")\n",
    "plt.ylabel(\"Recall@k\")\n",
    "# plt.plot(all_epochs, all_train_recalls_egcn, label=\"EGCN\")\n",
    "plt.title(f\"Train recalls (top-k: {config.k}, dim: {input_dim}, lr: {config.lr}\")\n",
    "plt.legend()\n",
    "plt.show()"
   ]
  },
  {
   "cell_type": "code",
   "execution_count": 13,
   "metadata": {
    "collapsed": false,
    "jupyter": {
     "outputs_hidden": false
    },
    "pycharm": {
     "name": "#%%\n"
    }
   },
   "outputs": [],
   "source": []
  }
 ],
 "metadata": {
  "interpreter": {
   "hash": "31f2aee4e71d21fbe5cf8b01ff0e069b9275f58929596ceb00d14d90e3e16cd6"
  },
  "kernelspec": {
   "display_name": "Python 3 (ipykernel)",
   "language": "python",
   "name": "python3"
  },
  "language_info": {
   "codemirror_mode": {
    "name": "ipython",
    "version": 3
   },
   "file_extension": ".py",
   "mimetype": "text/x-python",
   "name": "python",
   "nbconvert_exporter": "python",
   "pygments_lexer": "ipython3",
   "version": "3.9.12"
  }
 },
 "nbformat": 4,
 "nbformat_minor": 4
}