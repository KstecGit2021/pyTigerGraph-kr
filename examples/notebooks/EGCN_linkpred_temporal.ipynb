{
 "cells": [
  {
   "cell_type": "code",
   "execution_count": 1,
   "metadata": {},
   "outputs": [
    {
     "data": {
      "text/plain": [
       "['/home/tigergraph/conda/lib/python3.9/site-packages/pyTigerGraph']"
      ]
     },
     "execution_count": 1,
     "metadata": {},
     "output_type": "execute_result"
    }
   ],
   "source": [
    "%load_ext autoreload\n",
    "import sys\n",
    "sys.path.append(\"..\")\n",
    "\n",
    "import pyTigerGraph\n",
    "pyTigerGraph.__path__"
   ]
  },
  {
   "cell_type": "markdown",
   "metadata": {
    "pycharm": {
     "name": "#%% md\n"
    }
   },
   "source": [
    "# Recommender System with GNNs on PyG\n",
    "Dataset: LastFM (based: [JODIE: Predicting Dynamic Embedding Trajectory in Temporal Interaction Networks](http://snap.stanford.edu/jodie/))\n",
    "GNN Model: LightGCN [\\[2002.02126\\] LightGCN: Simplifying and Powering Graph Convolution Network for Recommendation](https://arxiv.org/abs/2002.02126)"
   ]
  },
  {
   "cell_type": "markdown",
   "metadata": {
    "pycharm": {
     "name": "#%% md\n"
    }
   },
   "source": [
    "### Connect to TigerGraph"
   ]
  },
  {
   "cell_type": "code",
   "execution_count": 2,
   "metadata": {
    "collapsed": false,
    "jupyter": {
     "outputs_hidden": false
    },
    "pycharm": {
     "name": "#%%\n"
    }
   },
   "outputs": [],
   "source": [
    "from pyTigerGraph import TigerGraphConnection\n",
    "\n",
    "conn = TigerGraphConnection(\n",
    "    host=\"http://127.0.0.1\", # Change the address to your database server's\n",
    "    graphname=\"LastFM\",  # Specify LastFM dataset\n",
    "    username=\"tigergraph\",\n",
    "    password=\"tigergraph\"\n",
    ")"
   ]
  },
  {
   "cell_type": "code",
   "execution_count": 3,
   "metadata": {
    "collapsed": false,
    "jupyter": {
     "outputs_hidden": false
    },
    "pycharm": {
     "name": "#%%\n"
    }
   },
   "outputs": [
    {
     "name": "stdout",
     "output_type": "stream",
     "text": [
      "CPU times: user 2 µs, sys: 0 ns, total: 2 µs\n",
      "Wall time: 5.01 µs\n"
     ]
    }
   ],
   "source": [
    "%%time\n",
    "# Basic metadata about the graph such as schema.\n",
    "# print(conn.gsql(\"ls\"))"
   ]
  },
  {
   "cell_type": "code",
   "execution_count": 4,
   "metadata": {
    "collapsed": false,
    "jupyter": {
     "outputs_hidden": false
    },
    "pycharm": {
     "name": "#%%\n"
    }
   },
   "outputs": [
    {
     "name": "stdout",
     "output_type": "stream",
     "text": [
      "Vertex Count: {'User': 980, 'Item': 1000}\n",
      "Edge Count: {'Interact': 154993}\n"
     ]
    }
   ],
   "source": [
    "print(\"Vertex Count:\", conn.getVertexCount('*'))\n",
    "print(\"Edge Count:\", conn.getEdgeCount('*'))"
   ]
  },
  {
   "cell_type": "markdown",
   "metadata": {
    "pycharm": {
     "name": "#%% md\n"
    }
   },
   "source": [
    "(Custimization Point for pyTigerGraph)\n",
    " In order to handle bipartite graphs which is comprised of users and items, we explicty specify # of users and items - which is required to compute the similarty score between user embeddings and items embeddings in GNN models.  To create a matrix for users/items embedding, we need to know # of users and items.  To that end. pyTigerGraph should support functions or attributes to extract these numbers for bipartite graphs - by propopsing two functions - tgraph.number_of_source_vertices(), tgraph.number_of_target_vertices(). These proposed methods should be used for general graphs as long as we target recommendation tasks."
   ]
  },
  {
   "cell_type": "code",
   "execution_count": 5,
   "metadata": {
    "collapsed": false,
    "jupyter": {
     "outputs_hidden": false
    },
    "pycharm": {
     "name": "#%%\n"
    }
   },
   "outputs": [],
   "source": [
    "num_users, num_items = conn.getVertexCount(\"User\"), conn.getVertexCount(\"Item\")\n",
    "num_nodes = num_users + num_items"
   ]
  },
  {
   "cell_type": "markdown",
   "metadata": {
    "pycharm": {
     "name": "#%% md\n"
    }
   },
   "source": [
    "(Not needed for Recommender Systems since this is based on nodes !!) ### Train/validation/test split by nodes"
   ]
  },
  {
   "cell_type": "markdown",
   "metadata": {
    "pycharm": {
     "name": "#%% md\n"
    }
   },
   "source": [
    "In recommendation tasks, the input dataset must be split by edges instead of nodes. pyTigerGraph supports node masking to split dataset, but edge masking and custom functions, which extract subgraphs with specified set of edges (training / validation / testing edges ), should be also provided."
   ]
  },
  {
   "cell_type": "code",
   "execution_count": 6,
   "metadata": {
    "collapsed": false,
    "jupyter": {
     "outputs_hidden": false
    },
    "pycharm": {
     "name": "#%%\n"
    }
   },
   "outputs": [
    {
     "name": "stdout",
     "output_type": "stream",
     "text": [
      "Splitting edges...\n",
      "Edge split finished successfully.\n",
      "CPU times: user 199 ms, sys: 19.5 ms, total: 219 ms\n",
      "Wall time: 702 ms\n"
     ]
    }
   ],
   "source": [
    "%%time\n",
    "# Train : Val : Test = 70 : 15 : 15 (4 : 1 : 1 steps)\n",
    "train_snapshots, val_snapshots, test_snapshots = 4, 1, 1\n",
    "splitter = conn.gds.edgeSplitter(train_mask=0.70, val_mask=0.15, test_mask=0.15)\n",
    "splitter.run()"
   ]
  },
  {
   "cell_type": "markdown",
   "metadata": {
    "pycharm": {
     "name": "#%% md\n"
    }
   },
   "source": [
    "(Customization Point to pyTigerGraph!) \n",
    "# Graph loader with edge features\n",
    "Currently the `GraphLoader` of pyTigerGraph only considers node-based labels but for recommender systems, it needs to support edge-based labels (training/validation/testing) to split datasets into training/validation/testing datasets by edge masking and custom functions. To implement this feature, we need to write GSQL to get edge-based labels. "
   ]
  },
  {
   "cell_type": "code",
   "execution_count": 7,
   "metadata": {
    "collapsed": false,
    "jupyter": {
     "outputs_hidden": false
    },
    "pycharm": {
     "name": "#%%\n"
    }
   },
   "outputs": [],
   "source": [
    "graph_loader = conn.gds.graphLoader(\n",
    "    v_in_feats=[\"x\"],\n",
    "    v_out_labels=[],\n",
    "    v_extra_feats=[],\n",
    "    e_in_feats=[\"time\"],\n",
    "    e_out_labels=[],\n",
    "    e_extra_feats=[\"train_mask\", \"val_mask\", \"test_mask\"],\n",
    "    num_batches=1,\n",
    "    shuffle=False,\n",
    "    output_format=\"PyG\",\n",
    "    add_self_loop=False,\n",
    "    loader_id=None,\n",
    "    buffer_size=4\n",
    ")"
   ]
  },
  {
   "cell_type": "code",
   "execution_count": 8,
   "metadata": {
    "collapsed": false,
    "jupyter": {
     "outputs_hidden": false
    },
    "pycharm": {
     "name": "#%%\n"
    }
   },
   "outputs": [
    {
     "data": {
      "text/plain": [
       "Data(edge_index=[2, 154993], edge_feat=[154993], train_mask=[154993], val_mask=[154993], test_mask=[154993], x=[1980])"
      ]
     },
     "execution_count": 8,
     "metadata": {},
     "output_type": "execute_result"
    }
   ],
   "source": [
    "# Get the whole graph from the loader in PyG format\n",
    "whole_graph = graph_loader.data\n",
    "whole_graph"
   ]
  },
  {
   "cell_type": "markdown",
   "metadata": {
    "pycharm": {
     "name": "#%% md\n"
    }
   },
   "source": [
    "(Customization Point to pyTorchGraph) \n",
    "## Extract sub-dataset by edges\n",
    "The following codes are not needed for node classification since PyG supports node-based partioning to trainining/validation/testing. As previously described, edge partioning is needed for link prediction or recommender tasks. To solve this constraint, The `GraphLoader` should provide custom functions to extract subgraphs for training/validation/testing  based on edges.  The following \"train_data\" or \"val_data'. .. indicate subgraphs in PyG. "
   ]
  },
  {
   "cell_type": "code",
   "execution_count": 9,
   "metadata": {},
   "outputs": [],
   "source": [
    "def get_subgraph(conn, dataset_key):\n",
    "    if dataset_key not in [\"train\", \"val\", \"test\"]:\n",
    "        raise ValueError(\"The key of dataset must be 'train', 'val' or 'test'\")\n",
    "    mask_name = f\"{dataset_key}_mask\"\n",
    "    subg_loader = conn.gds.graphLoader(\n",
    "        v_in_feats=[\"x\"],\n",
    "        v_out_labels=[],\n",
    "        v_extra_feats=[],\n",
    "        e_in_feats=[\"time\"],\n",
    "        e_out_labels=[],\n",
    "        e_extra_feats=[mask_name],\n",
    "        num_batches=1,\n",
    "        shuffle=False,\n",
    "        filter_by=mask_name,\n",
    "        output_format=\"PyG\",\n",
    "        add_self_loop=False,\n",
    "        loader_id=None,\n",
    "        buffer_size=4\n",
    "    )\n",
    "    sub_graph = subg_loader.data\n",
    "    return sub_graph"
   ]
  },
  {
   "cell_type": "code",
   "execution_count": 10,
   "metadata": {},
   "outputs": [],
   "source": [
    "train_graph = get_subgraph(conn, \"train\")\n",
    "val_graph = get_subgraph(conn, \"val\")\n",
    "test_graph = get_subgraph(conn, \"test\")"
   ]
  },
  {
   "cell_type": "code",
   "execution_count": 11,
   "metadata": {},
   "outputs": [
    {
     "data": {
      "text/plain": [
       "(Data(edge_index=[2, 108604], edge_feat=[108604], train_mask=[108604], x=[1979]),\n",
       " Data(edge_index=[2, 23189], edge_feat=[23189], val_mask=[23189], x=[1920]),\n",
       " Data(edge_index=[2, 23200], edge_feat=[23200], test_mask=[23200], x=[1930]))"
      ]
     },
     "execution_count": 11,
     "metadata": {},
     "output_type": "execute_result"
    }
   ],
   "source": [
    "train_graph, val_graph, test_graph"
   ]
  },
  {
   "cell_type": "markdown",
   "metadata": {},
   "source": [
    "# Split Train Dataset into PyG-Temporal Snapshots"
   ]
  },
  {
   "cell_type": "markdown",
   "metadata": {},
   "source": [
    "## Create and set bipartite edges to training snapshots"
   ]
  },
  {
   "cell_type": "code",
   "execution_count": 12,
   "metadata": {},
   "outputs": [],
   "source": [
    "import torch\n",
    "import numpy as np\n",
    "from torch_geometric.utils import to_undirected\n",
    "from torch_geometric.data import Data"
   ]
  },
  {
   "cell_type": "markdown",
   "metadata": {},
   "source": [
    "## Create and set undirected bipartite edges to validation and testing snapshots"
   ]
  },
  {
   "cell_type": "markdown",
   "metadata": {},
   "source": [
    "For each subgraph dataset (training, validation and testing), construct undirected bipartite edges for message passing in the LightGCN model from the directed edges as the ground-truth labels of the link prediction."
   ]
  },
  {
   "cell_type": "code",
   "execution_count": 13,
   "metadata": {},
   "outputs": [],
   "source": [
    "from torch_geometric_temporal.signal import DynamicGraphTemporalSignal\n",
    "\n",
    "def split_data_snapshots(data: Data, num_snapshots: int):\n",
    "    num_edges = data.edge_index.shape[1]\n",
    "    num_edges_per_ss = num_edges // num_snapshots\n",
    "    start_index = [num_edges_per_ss * i for i in range(num_snapshots)] + [num_edges]\n",
    "    \n",
    "    edge_index = data.edge_index\n",
    "    edge_feat = data.edge_feat.to(torch.float)\n",
    "    node_feat = data.x.to(torch.float)\n",
    "    \n",
    "    num_nodes = node_feat.shape[0]\n",
    "    node_label = np.zeros(num_nodes, dtype=np.float32)  # Must by NumPy array\n",
    "    \n",
    "    edge_index_t = list()\n",
    "    edge_label_index_t = list()\n",
    "    edge_feat_t = list()\n",
    "    node_feat_t = list()\n",
    "    target_t = list()\n",
    "    \n",
    "    for i in range(num_snapshots):\n",
    "        sub_edge_label_index = edge_index[:, start_index[i]:start_index[i+1]]  # Ground-truth bipartite edges (directed)\n",
    "        sub_edge_feat = edge_feat[start_index[i]:start_index[i+1]]\n",
    "        sub_edge_index = to_undirected(sub_edge_label_index)  # Undirected bipartite edges for message passing\n",
    "        edge_index_t.append(sub_edge_index)\n",
    "        edge_label_index_t.append(sub_edge_label_index.numpy())  # Must by NumPy array for PyG-Temporal\n",
    "        edge_feat_t.append(sub_edge_feat)\n",
    "        node_feat_t.append(node_feat)\n",
    "        target_t.append(node_label)\n",
    "\n",
    "    data_t = DynamicGraphTemporalSignal(edge_index_t, edge_feat_t, node_feat_t, target_t, edge_label_index=edge_label_index_t)\n",
    "    return data_t"
   ]
  },
  {
   "cell_type": "code",
   "execution_count": 14,
   "metadata": {},
   "outputs": [
    {
     "data": {
      "text/plain": [
       "(4, 1, 1)"
      ]
     },
     "execution_count": 14,
     "metadata": {},
     "output_type": "execute_result"
    }
   ],
   "source": [
    "train_data_t = split_data_snapshots(train_graph, train_snapshots)\n",
    "val_data_t = split_data_snapshots(val_graph, val_snapshots)\n",
    "test_data_t = split_data_snapshots(test_graph, test_snapshots)\n",
    "\n",
    "train_data_t.snapshot_count, val_data_t.snapshot_count, test_data_t.snapshot_count"
   ]
  },
  {
   "cell_type": "code",
   "execution_count": 15,
   "metadata": {},
   "outputs": [
    {
     "name": "stdout",
     "output_type": "stream",
     "text": [
      "Data(x=[1979], edge_index=[2, 54302], edge_attr=[27151], y=[1979], edge_label_index=[2, 27151])\n",
      "Data(x=[1979], edge_index=[2, 54302], edge_attr=[27151], y=[1979], edge_label_index=[2, 27151])\n",
      "Data(x=[1979], edge_index=[2, 54302], edge_attr=[27151], y=[1979], edge_label_index=[2, 27151])\n",
      "Data(x=[1979], edge_index=[2, 54302], edge_attr=[27151], y=[1979], edge_label_index=[2, 27151])\n"
     ]
    }
   ],
   "source": [
    "for ss in train_data_t:\n",
    "    print(ss)"
   ]
  },
  {
   "cell_type": "markdown",
   "metadata": {
    "pycharm": {
     "name": "#%% md\n"
    }
   },
   "source": [
    "# Construct EvolveGCN model and optimizer"
   ]
  },
  {
   "cell_type": "markdown",
   "metadata": {
    "pycharm": {
     "name": "#%% md\n"
    }
   },
   "source": [
    "We build an EvolveGCN model, and use the Adam optimizer with a learning rate of 0.001."
   ]
  },
  {
   "cell_type": "code",
   "execution_count": 16,
   "metadata": {
    "collapsed": false,
    "jupyter": {
     "outputs_hidden": false
    },
    "pycharm": {
     "name": "#%%\n"
    }
   },
   "outputs": [
    {
     "name": "stdout",
     "output_type": "stream",
     "text": [
      "EvolveGCN training configuration: Config(epochs=4, k=10, num_layers=2, batch_size=1000, embedding_dim=64, lr=0.001, model_name='egcn', save_emb_dir=None)\n"
     ]
    }
   ],
   "source": [
    "import numpy as np\n",
    "import torch\n",
    "from torch.optim import Optimizer\n",
    "from torch_geometric.loader import DataLoader\n",
    "from torch_geometric.data import Data\n",
    "\n",
    "sys.path.append(\"..\")\n",
    "from recsys.model.egcn import EGCN\n",
    "from recsys.config import config\n",
    "from recsys.utils.sample_negative import sample_negative_edges\n",
    "from recsys.data.lastfm import LastFMDataset\n",
    "\n",
    "print(\"EvolveGCN training configuration:\", config)"
   ]
  },
  {
   "cell_type": "markdown",
   "metadata": {
    "pycharm": {
     "name": "#%% md\n"
    }
   },
   "source": [
    "## Construct model and optimizer"
   ]
  },
  {
   "cell_type": "code",
   "execution_count": 17,
   "metadata": {
    "collapsed": false,
    "jupyter": {
     "outputs_hidden": false
    },
    "pycharm": {
     "name": "#%%\n"
    }
   },
   "outputs": [],
   "source": [
    "device = torch.device('cuda' if torch.cuda.is_available() else 'cpu')\n",
    "input_dim = config.embedding_dim\n",
    "\n",
    "gnn = EGCN(\n",
    "    embedding_dim=input_dim,\n",
    "    num_nodes=num_nodes,\n",
    "    num_users=num_users,\n",
    "    num_layers=config.num_layers,\n",
    ").to(device)\n",
    "\n",
    "opt = torch.optim.Adam(gnn.parameters(), lr=config.lr)  # using Adam optimizer"
   ]
  },
  {
   "cell_type": "markdown",
   "metadata": {
    "pycharm": {
     "name": "#%% md\n"
    }
   },
   "source": [
    "## Training and Testing"
   ]
  },
  {
   "cell_type": "code",
   "execution_count": 18,
   "metadata": {
    "collapsed": false,
    "jupyter": {
     "outputs_hidden": false
    },
    "pycharm": {
     "name": "#%%\n"
    }
   },
   "outputs": [],
   "source": [
    "def train(\n",
    "    model,  # GNN (EvolveGCN) model\n",
    "    data_mp: Data,  # Message passing edges for multi-scale embedding propagation\n",
    "    loader: DataLoader,  # DataLoader in batches of supervision/evaluation edges\n",
    "    opt: Optimizer,  # Optimizer\n",
    "    num_customers: int,  # Number of user nodes\n",
    "    num_nodes: int,  # Number of total nodes (users + items)\n",
    "    device: torch.device,  # Device (CPU or GPU)\n",
    "):\n",
    "    total_loss = 0\n",
    "    total_examples = 0\n",
    "    model.train()\n",
    "    i = 0\n",
    "    for batch in loader:  # positive (existing) edges\n",
    "        i += 1\n",
    "        del batch.batch\n",
    "        del batch.ptr  # delete unwanted attributes\n",
    "\n",
    "        opt.zero_grad()\n",
    "        # Generate negative (non-existing) edges\n",
    "        negs = sample_negative_edges(batch, num_customers, num_nodes, device)\n",
    "        data_mp, batch, negs = data_mp.to(device), batch.to(device), negs.to(device)\n",
    "        loss = model.calc_loss(data_mp, batch, negs)  # Train and compute loss\n",
    "        loss.backward()\n",
    "        opt.step()\n",
    "\n",
    "        num_examples = batch.edge_index.shape[1]\n",
    "        total_loss += loss.item() * num_examples\n",
    "        total_examples += num_examples\n",
    "    avg_loss = total_loss / total_examples\n",
    "    return avg_loss"
   ]
  },
  {
   "cell_type": "code",
   "execution_count": 19,
   "metadata": {
    "collapsed": false,
    "jupyter": {
     "outputs_hidden": false
    },
    "pycharm": {
     "name": "#%%\n"
    }
   },
   "outputs": [],
   "source": [
    "def test(\n",
    "    model,  # GNN (EvolveGCN) model\n",
    "    data_mp: Data,  # Message passing edges for multi-scale embedding propagation\n",
    "    loader: DataLoader,  # DataLoader in batches of evaluation edges\n",
    "    k: int,  # Top-k\n",
    "    device: torch.device,  # Device (CPU or GPU)\n",
    "):\n",
    "    model.eval()\n",
    "    all_recalls = {}\n",
    "    with torch.no_grad():\n",
    "        data_mp = data_mp.to(device)  # Save multi-scale embeddings if save_dir is not None\n",
    "\n",
    "        # Run evaluation\n",
    "        for batch in loader:  # Batches of positive (existing) edges\n",
    "            del batch.batch; del batch.ptr  # delete unwanted attributes\n",
    "            batch = batch.to(device)\n",
    "            recalls = model.evaluation(data_mp, batch, k)  # Evaluate model performance\n",
    "            for customer_idx in recalls:\n",
    "                assert customer_idx not in all_recalls\n",
    "            all_recalls.update(recalls)\n",
    "    recall_at_k = np.mean(list(all_recalls.values()))\n",
    "    return recall_at_k"
   ]
  },
  {
   "cell_type": "markdown",
   "metadata": {
    "pycharm": {
     "name": "#%% md\n"
    }
   },
   "source": [
    "### Train the model"
   ]
  },
  {
   "cell_type": "code",
   "execution_count": 20,
   "metadata": {
    "collapsed": false,
    "jupyter": {
     "outputs_hidden": false
    },
    "pycharm": {
     "is_executing": true,
     "name": "#%%\n"
    }
   },
   "outputs": [
    {
     "name": "stderr",
     "output_type": "stream",
     "text": [
      "/home/tigergraph/conda/lib/python3.9/site-packages/torch_geometric/data/storage.py:261: UserWarning: Unable to accurately infer 'num_nodes' from the attribute set '{'edge_index'}'. Please explicitly set 'num_nodes' as an attribute of 'data' to suppress this warning\n",
      "  warnings.warn(\n"
     ]
    },
    {
     "name": "stdout",
     "output_type": "stream",
     "text": [
      "Epoch 0: train loss=2.772651, val_recall=0.003231, time=1.64[s]\n",
      "Epoch 1: train loss=2.772669, val_recall=0.003231, time=3.29[s]\n",
      "Epoch 2: train loss=2.772377, val_recall=0.004676, time=4.95[s]\n",
      "Epoch 3: train loss=2.772052, val_recall=0.005218, time=6.89[s]\n",
      "CPU times: user 13 s, sys: 39.6 s, total: 52.6 s\n",
      "Wall time: 6.89 s\n"
     ]
    }
   ],
   "source": [
    "%%time\n",
    "\n",
    "from time import time\n",
    "\n",
    "input_dim = config.embedding_dim\n",
    "\n",
    "all_train_losses = list()  # list of (epoch, training loss)\n",
    "all_val_recalls = list()  # list of (epoch, validation recall@k)\n",
    "all_train_recalls_egcn = list()\n",
    "\n",
    "\n",
    "st = time()\n",
    "for epoch in range(config.epochs):\n",
    "    train_loss = 0.0\n",
    "    tm = 0\n",
    "    for tm, ss in enumerate(train_data_t):\n",
    "        # For each subgraph dataset (training, validation and testing), \n",
    "        # construct ground-truth positive (existing) edges for training.\n",
    "        existing_edges = LastFMDataset(\"tmp\", edge_index=ss.edge_label_index)\n",
    "        label_loader = DataLoader(existing_edges, batch_size=config.batch_size, shuffle=True)\n",
    "        tmp_loss = train(gnn, ss, label_loader, opt, num_users, num_nodes, device)\n",
    "        train_loss += tmp_loss\n",
    "    avg_loss = train_loss / (tm+1)  # Average of loss for all snapshots\n",
    "    all_train_losses.append((epoch, avg_loss))\n",
    "    \n",
    "    for tm, ss in enumerate(val_data_t):\n",
    "        existing_edges = LastFMDataset(\"tmp\", edge_index=ss.edge_label_index)\n",
    "        label_loader = DataLoader(existing_edges, batch_size=config.batch_size, shuffle=False)\n",
    "        val_recall = test(gnn, ss, label_loader, config.k, device)\n",
    "    all_val_recalls.append((epoch, val_recall))\n",
    "    all_train_recalls_egcn.append(val_recall)\n",
    "    tm = time() - st\n",
    "    print(f\"Epoch {epoch}: train loss={train_loss:.6f}, val_recall={val_recall:.6f}, time={tm:.2f}[s]\")\n"
   ]
  },
  {
   "cell_type": "markdown",
   "metadata": {
    "pycharm": {
     "name": "#%% md\n"
    }
   },
   "source": [
    "### Test the model"
   ]
  },
  {
   "cell_type": "code",
   "execution_count": 21,
   "metadata": {
    "collapsed": false,
    "jupyter": {
     "outputs_hidden": false
    },
    "pycharm": {
     "name": "#%%\n"
    }
   },
   "outputs": [
    {
     "name": "stdout",
     "output_type": "stream",
     "text": [
      "Best validation recall@k: 0.005218368657675016 at epoch 3\n",
      "Test set recall@k: 0.006364916046444709\n"
     ]
    }
   ],
   "source": [
    "# Print best validation recall@k value\n",
    "best_val_recall = max(all_val_recalls, key=lambda x: x[1])\n",
    "print(f\"Best validation recall@k: {best_val_recall[1]} at epoch {best_val_recall[0]}\")\n",
    "\n",
    "# Print final recall@k on test set\n",
    "# test_recall = test(gnn, test_graph, test_label_loader, config.k, device)\n",
    "for ss in test_data_t:\n",
    "    ss = ss.to(device)\n",
    "    existing_edges = LastFMDataset(\"tmp\", edge_index=ss.edge_label_index)\n",
    "    label_loader = DataLoader(existing_edges, batch_size=config.batch_size, shuffle=False)\n",
    "    test_recall = test(gnn, ss, label_loader, config.k, device)\n",
    "print(f\"Test set recall@k: {test_recall}\")"
   ]
  },
  {
   "cell_type": "markdown",
   "metadata": {
    "pycharm": {
     "name": "#%% md\n"
    }
   },
   "source": [
    "### Visualize testing results"
   ]
  },
  {
   "cell_type": "code",
   "execution_count": 22,
   "metadata": {
    "collapsed": false,
    "jupyter": {
     "outputs_hidden": false
    },
    "pycharm": {
     "name": "#%%\n"
    }
   },
   "outputs": [
    {
     "data": {
      "image/png": "[encoded data removed]",
      "text/plain": [
       "<Figure size 432x288 with 1 Axes>"
      ]
     },
     "metadata": {},
     "output_type": "display_data"
    }
   ],
   "source": [
    "import matplotlib.pyplot as plt\n",
    "\n",
    "all_epochs = list(range(len(all_train_recalls_egcn)))\n",
    "fig = plt.figure()\n",
    "fig.patch.set_facecolor(\"white\")\n",
    "\n",
    "plt.plot(all_epochs, all_train_recalls_egcn, label=\"EGCN\")\n",
    "plt.xlabel(\"Epoch\")\n",
    "plt.ylabel(\"Recall@k\")\n",
    "plt.title(f\"Train recalls (top-k: {config.k}, dim: {input_dim}, lr: {config.lr})\")\n",
    "plt.legend()\n",
    "plt.show()"
   ]
  },
  {
   "cell_type": "code",
   "execution_count": null,
   "metadata": {},
   "outputs": [],
   "source": []
  }
 ],
 "metadata": {
  "environment": {
   "name": "pytorch-gpu.1-9.m81",
   "type": "gcloud",
   "uri": "gcr.io/deeplearning-platform-release/pytorch-gpu.1-9:m81"
  },
  "interpreter": {
   "hash": "a3ffc3e0035b978270c84a2ad5dd87181b12d215691cb9f2ca8be8bb187aa590"
  },
  "kernelspec": {
   "display_name": "Tigergraph Pytorch",
   "language": "python",
   "name": "python3"
  },
  "language_info": {
   "codemirror_mode": {
    "name": "ipython",
    "version": 3
   },
   "file_extension": ".py",
   "mimetype": "text/x-python",
   "name": "python",
   "nbconvert_exporter": "python",
   "pygments_lexer": "ipython3",
   "version": "3.9.10"
  }
 },
 "nbformat": 4,
 "nbformat_minor": 4
}
